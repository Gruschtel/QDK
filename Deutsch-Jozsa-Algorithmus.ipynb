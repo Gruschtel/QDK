{
 "cells": [
  {
   "cell_type": "markdown",
   "metadata": {},
   "source": [
    "![bloch_sphere](_image/intro.png)"
   ]
  },
  {
   "cell_type": "markdown",
   "metadata": {},
   "source": [
    "Dieses Notebook befasst sich mit einer Umsetzung des Deutsch Algorithmus mit Hilfe des QDK Frageworks bzw. in der Programmiersprache Q#. **Stand 16.01.2020.**"
   ]
  },
  {
   "cell_type": "code",
   "execution_count": 1,
   "metadata": {},
   "outputs": [
    {
     "data": {
      "application/json": "{\"rows\":[{\"@type\":\"@tuple\",\"Item1\":\"iqsharp\",\"Item2\":\"0.10.1912.501\"},{\"@type\":\"@tuple\",\"Item1\":\"Jupyter Core\",\"Item2\":\"1.2.20112.0\"},{\"@type\":\"@tuple\",\"Item1\":\".NET Runtime\",\"Item2\":\".NETCoreApp,Version=v3.0\"}]}",
      "text/html": [
       "<table><thead><tr><th>Component</th><th>Version</th></tr></thead><tbody><tr><td>iqsharp</td><td>0.10.1912.501</td></tr><tr><td>Jupyter Core</td><td>1.2.20112.0</td></tr><tr><td>.NET Runtime</td><td>.NETCoreApp,Version=v3.0</td></tr></tbody></table>"
      ],
      "text/plain": [
       "Component    Version\r\n",
       "------------ ------------------------\r\n",
       "iqsharp      0.10.1912.501\r\n",
       "Jupyter Core 1.2.20112.0\r\n",
       ".NET Runtime .NETCoreApp,Version=v3.0\r\n"
      ]
     },
     "metadata": {},
     "output_type": "display_data"
    }
   ],
   "source": [
    "%version"
   ]
  },
  {
   "cell_type": "markdown",
   "metadata": {},
   "source": [
    "# Voraussetzungen\n",
    "\n",
    "Jupyter Notebook ist ein beliebtes Tool in der Wissenschaft und Forschung sowie bei der onlinebasierten kollaborativen Programmierung. Es zeichnet sich durch die Möglichkeit der direkten Codeausführung, seiner Anweisungen, Hinweise sowie andere Inhalte aus. Hier sind die Schritte aufgeführt, die Sie zum Erstellen eigener Q#-Notebooks ausführen müssen.\n",
    "\n",
    "IQ# ist eine hauptsächlich von Jupyter und Python genutzte Erweiterung für das .NET Core SDK, welche die Kernfunktionen für das Kompilieren und Simulieren von Q#-Vorgängen bereitstellt.\n",
    "\n",
    "\n",
    "- [Python 3.6](https://www.python.org/downloads/) oder höher\n",
    "- [Jupyter Notebook](https://jupyter.readthedocs.io/en/latest/install.html)\n",
    "- [.NET Core SDK 3.0](https://dotnet.microsoft.com/download) oder höher\n",
    "\n",
    "Bevor Q#-Code ausgeführt werden kann, muss das Jupyter Notebook zunächst eine passende Umgebung bereitstellen. Hierzu muss nach Installation des .NET Core SDKs die Eingabeaufforderung geöffnet werden und die folgende Befehle ausgeführt werden. Achtung: Nach jeder Ausführung, muss die Eingabeaufforderung geschlossen und neu gestartet werden!\n",
    "- dotnet tool install -g Microsoft.Quantum.IQSharp\n",
    "- dotnet iqsharp install\n",
    "\n",
    "# Table of Contents\n",
    "\n",
    "- [Deutsch-Jozsa Algorithmus](#deutsch_josza)<br>\n",
    " - [Problemformulierung](#problemformulierung_josza)<br>\n",
    " - [Quantenschaltkreis](#quantenschaltkreis_josza)<br>\n",
    " - [Algorithmus](#algorithmus_josza)<br>\n",
    " - [Q#-Code](#q_code)<br>\n",
    "     - [Quantum Orakel](#orakel)<br>\n",
    "     - [Deutsch-Josza-Operation](#deutsch_operation)<br> \n",
    "     - [Prepare Algorithmus](#prepare)<br> \n",
    " "
   ]
  },
  {
   "cell_type": "markdown",
   "metadata": {},
   "source": [
    "# Deutsch-Jozsa-Algorithmus<a id=\"deutsch_josza\"></a>\n",
    "\n",
    "## Problemformulierung<a id=\"problemformulierung_josza\"></a>\n",
    "\n",
    "Der Deutsch-Jozsa-Algorithmus ist eine Erweiterung des Deutsch-Algorithmus ?und erweiterte die Funktion **f** um mehr als 2 Qubits an die Funktion zu übergeben. Also $f: \\{ 0 , 1 \\}^n → \\{ 0 , 1 \\}$. Es wird zugesichert, dass die Funktion entweder konstant (alle Eingaben werden auf ein und denselben Wert abgebildet) oder balanciert ist. Herauszufinden ist nun, welche der beiden Möglichkeiten zutrifft.\n",
    "\n",
    "\n",
    "## Quantenschaltkreis<a id=\"quantenschaltkreis_josza\"></a>\n",
    "\n",
    "![Quantenschaltkreis Deutsch-Jozsa](_image/deutsch_jozsa_algorithm.png)[O2](#r02)\n",
    "\n",
    "## Algorithmus<a id=\"algorithmus_josza\"></a>\n",
    "\n",
    "Der Deutsch-Jozsa-Algorithmus wendet die gegebene Funktion auf eine Superposition aller möglichen Eingaben an. Durch geschickte Auswertung erhält der Algorithmus, mit nur einmaliger Anwendung, ausreichend Information über alle Funktionswerte. \n",
    "\n",
    "In der Quanteninformatik müssen alle Rechenschritte umkehrbar sein, wird eine spezielle Variante von **f** benötigt, beschrieben durch die Abbildung: $U_f: |x\\rangle|y\\rangle ↦ |x\\rangle |f(x)⊕y\\rangle$\n",
    "\n",
    "\n",
    "Der Deutsch-Jozsa Algorithmus verwendet ein Quanten-Register $|x\\rangle$ als Eingaberegister und ein Qubit $|y\\rangle$ als Ausgaberegister und wird wie folgt berechnet: [E1](#rE1)\n",
    "\n",
    "1) Initialisierung:<br><br>\n",
    "$\n",
    "|x\\rangle|y\\rangle\\ =\\ |0\\rangle^{\\oplus n}|1\\rangle \\\\\n",
    "=\\ |a\\rangle\n",
    "$\n",
    "<br><br><br>\n",
    "2) Auf beide Eingänge (Qubits) wird die Hadarmard-Tranformation angewandt:<br><br>\n",
    "$\n",
    "|x\\rangle|y\\rangle\\ =\\ H_{n+1}|x\\rangle|y\\rangle \\\\\n",
    "=\\ \\big(\\frac{1}{\\sqrt{2^n}}\\sum_{x=0}^{2^{n}-1}|x\\rangle\\big)*\\frac{1}{\\sqrt{2}}(\\ |0\\rangle-|1\\rangle\\ ) \\\\\n",
    "=\\ \\frac{1}{\\sqrt{2^{n+1}}} \\sum_{x=0}^{2^{n}-1}|x\\rangle\\ (\\ |0\\rangle-|1\\rangle\\ ) \\\\\n",
    "=\\ |b\\rangle\n",
    "$\n",
    "<br><br><br>\n",
    "3) 𝑈𝑓 anwenden (Orakel Beispiel: y⊕f(x)\\ ):<br><br>\n",
    "$\n",
    "|x\\rangle|y\\rangle\\ \\rightarrow\\ U_f|x\\rangle|y\\rangle \\\\\n",
    "=\\ \\frac{1}{\\sqrt{2^{n+1}}} \\sum_{x=0}^{2^{n}-1}|x\\rangle\\ (\\ |f(x\\rangle)-|1\\oplus f(x)\\rangle\\ ) \\\\\n",
    "=\\ \\frac{1}{\\sqrt{2^{n+1}}} \\sum_{x=0}^{2^{n}-1}(-1)^{f(x)}|x\\rangle\\ (\\ |0\\rangle-|1\\rangle\\ ) \\\\\n",
    "=\\ \\big( \\frac{1}{\\sqrt{2^{n+1}}} \\sum_{x=0}^{2^{n}-1}(-1)^{f(x)}|x\\rangle \\big) \\ *\\ \\frac{1}{\\sqrt{2}}(\\ |0\\rangle-|1\\rangle\\ ) \\\\\n",
    "=\\ |c\\rangle\n",
    "$ \n",
    "<br><br><br>\n",
    "4) Die Hadarmard-Tranformation wird auf |x⟩ angewandt:<br><br>\n",
    "$\n",
    "|x\\rangle|y\\rangle\\ =\\ (\\ H_{n}|x\\rangle\\ )|y\\rangle \\\\\n",
    "=\\ \\big(\\frac{1}{2^n}  \\sum_{z=0}^{2^{n}-1}\\sum_{x=0}^{2^{n}-1}(-1)^{x*z+f(x)}|z\\rangle\\big)\\ *\\ \\frac{1}{\\sqrt{2}}(\\ |0\\rangle-|1\\rangle\\ ) \\\\\n",
    "=\\ |d\\rangle\n",
    "$\n",
    "<br><br>\n",
    "5) Messen des |x⟩ Quanten-Registers\n",
    "\n",
    "\n",
    "#### Zusammenfassung\n",
    "\n",
    "- Man wendet die H-Transformation auf jedes Qubit im Quanten-Register |x⟩ an\n",
    "- $U_f$ anwenden\n",
    "- Dann wendet man die H-Transformation auf Quanten-Register |x⟩ an\n",
    "- Messen des Quanten-Register |x⟩\n",
    "- Wenn alle Quanten des Quanten-Register |x⟩ im Zustand $|0\\rangle$ gemessen wurden (Also $| 0 … 0 \\rangle$), ist die Funktion konstant, ansonsten ist sie balanciert\n",
    "\n",
    "## Q#-Code <a id=\"q_code\"></a>\n",
    "\n",
    "### Quantum Orakel<a id=\"orakel\"></a>\n",
    "\n",
    "Ein Quantenorakel ist eine \"Black Box\"-Operation, die als Eingabe für einen anderen Algorithmus verwendet wird. Diese Operation ist so implementiert, dass Berechnungen nicht nur auf einzelne Eingänge, sondern auch auf Überlagerungen von Eingängen durchgeführt werden können. \n",
    "\n",
    "Orakel werden oft mit einer klassischen Funktion definiert, im Fall des Deutsch-Jozsa-Algorithmus mit der Funktion $f : \\{0, 1\\}^N \\{0, 1\\}$ nimmt einen $N$-Bit Binäreingang und erzeugt einen 1-Bit Binärausgang.\n",
    "\n",
    "Die verwendeten Orakel werden als Phasenorakel bezeichnet. Ein Phasenorakel $U_f$ kodiert den Wert der klassischen Funktion $f$, die es in der Phase des qubit-Zustandes implementiert.\n",
    "\n",
    "#### Konstante Funktionen<a id=\"konst\"></a>\n",
    "##### $f(x) \\equiv 0$\n",
    "\n",
    "Dies ist die am einfachsten zu implementierende Funktion: if $f(x) \\equiv 0$, $U_f |x\\rangle \\equiv (-1)^0 |x\\rangle = |x\\rangle$. Das bedeutet, dass $U_f$ eine Identität ist - eine Transformation, die absolut nichts bewirkt!"
   ]
  },
  {
   "cell_type": "code",
   "execution_count": 2,
   "metadata": {},
   "outputs": [
    {
     "data": {
      "application/json": "[\"PhaseOracle_Zero\"]",
      "text/html": [
       "<ul><li>PhaseOracle_Zero</li></ul>"
      ],
      "text/plain": [
       "PhaseOracle_Zero"
      ]
     },
     "execution_count": 2,
     "metadata": {},
     "output_type": "execute_result"
    }
   ],
   "source": [
    "// Function 1. f(x) = 0\n",
    "operation PhaseOracle_Zero (x : Qubit[]) : Unit is Adj {\n",
    "    // Da f(x) = 0 für alle Werte von x, ist Uf|y⟩ = |y⟩\n",
    "    // Das bedeutet, dass die Operation keine Transformation der Eingänge durchführen muss. \n",
    "}"
   ]
  },
  {
   "cell_type": "markdown",
   "metadata": {},
   "source": [
    "##### $f(x) \\equiv 1$\n",
    "\n",
    "Die zweite Konstantenfunktion ist etwas trickreicher: wenn $f(x) \\equiv 1$, $U_f |x\\rangle \\equiv (-1)^1 |x\\rangle = - |x\\rangle$. Nun ist $U_f$ eine negative Identität, d.h. eine Transformation, die eine globale Phase von $-1$ auf den Zustand anwendet. Viele Algorithmen ignorieren die in ihnen angesammelte globale Phase einfach, da sie nicht beobachtbar ist. Trotzdem, falls es wirklich genau sein soll, kann man die Q#-Bibliotheksoperation Microsoft.Quantum.Intrinsic.R verwenden, die eine gegebene Rotation um die gegebene Achse ausführt. Wenn diese Operation mit PauliI-Achse aufgerufen wird, wendet sie eine globale Phase an. Da die operation die Eingabe nicht berücksichtigt, kann sie auf jedes beliebige Qubit angewendet werden, zum Beispiel auf das erste Qubit der Eingabe."
   ]
  },
  {
   "cell_type": "code",
   "execution_count": 3,
   "metadata": {},
   "outputs": [
    {
     "data": {
      "application/json": "[\"PhaseOracle_One\"]",
      "text/html": [
       "<ul><li>PhaseOracle_One</li></ul>"
      ],
      "text/plain": [
       "PhaseOracle_One"
      ]
     },
     "execution_count": 3,
     "metadata": {},
     "output_type": "execute_result"
    }
   ],
   "source": [
    "// Öffnet den Namensraum, in dem die Bibliotheksfunktion PI() definiert ist\n",
    "open Microsoft.Quantum.Math;\n",
    "\n",
    "// Function 2. f(x) = 1\n",
    "operation PhaseOracle_One (x : Qubit[]) : Unit is Adj {\n",
    "    // Da f(x) = 1 für alle Werte von x, ist Uf|y⟩ = -|y⟩.\n",
    "    // Dies bedeutet, dass die Operation eine globale Phase von -1 hinzufügen muss, damit gilt -|y⟩ = |y⟩\n",
    "    R(PauliI, 2.0 * PI(), x[0]);\n",
    "}"
   ]
  },
  {
   "cell_type": "markdown",
   "metadata": {},
   "source": [
    "#### Balancierte Funktionen<a id=\"balanciert\"></a>\n",
    "##### $f(x) = x \\text{ mod } 2$\n",
    "\n",
    "Die binäre Darstellung von $x$ ist $x = (x_{0}, x_{1}, \\dots, x_{N-1})$, wobei das niederwertigste Bit im letzten Bit (im letzten Qubit des Input-Arrays gespeichert) kodiert ist: $f(x) = x_{N-1}$. Das bedeutet, dass nur das letzte Qubit in der Implementierung benötigt wird und kann wie folgt dargestellt werden kann:\n",
    "$$U_f |x\\rangle = (-1)^{f(x)} |x\\rangle = (-1)^{x_{N-1}} |x\\rangle = |x_{0} \\rangle \\otimes \\cdots \\otimes |x_{N-2} \\rangle \\otimes (-1)^{x_{N-1}} |x_{N-1}\\rangle$$\n",
    "\n",
    "\n",
    "\n",
    "Hinweis: Das Z-Gatter tut nichts, wenn das Qubit im Zustand $|0\\rangle$ befindet, wendet jedoch die Operation $-1$ (Flippt den Zustand) auf das Qubit an, wenn dieses sich im Zustand $|1\\rangle$ befindet. \n",
    "$$Z = \\begin{bmatrix} 1 & 0 \\\\ 0 & -1 \\end{bmatrix} : Z |0\\rangle = |0\\rangle, Z |1\\rangle = -|1\\rangle$$\n",
    "\n",
    "Zusammenfassend gilt also folgende Operation für die Matrix:\n",
    "$$U_f = \\mathbb{1} \\otimes \\cdots \\otimes \\mathbb{1} \\otimes Z$$"
   ]
  },
  {
   "cell_type": "code",
   "execution_count": 4,
   "metadata": {},
   "outputs": [
    {
     "data": {
      "application/json": "[\"PhaseOracle_Xmod2\"]",
      "text/html": [
       "<ul><li>PhaseOracle_Xmod2</li></ul>"
      ],
      "text/plain": [
       "PhaseOracle_Xmod2"
      ]
     },
     "execution_count": 4,
     "metadata": {},
     "output_type": "execute_result"
    }
   ],
   "source": [
    "// Function 3. f(x) = x mod 2\n",
    "operation PhaseOracle_Xmod2 (x : Qubit[]) : Unit is Adj {\n",
    "    // Length(x) gibt die Länge des Arrays an.\n",
    "    // Array-Elemente werden von 0 bis einschließlich Length(x)-1 indiziert.\n",
    "    Z(x[Length(x) - 1]);\n",
    "}"
   ]
  },
  {
   "cell_type": "markdown",
   "metadata": {},
   "source": [
    "#### $f(x) = 1 \\text{ wenn x eine ungerade Anzahl von 1 hat, sonst 0 }$\n",
    "\n",
    "In diesem Orakel hängt die Antwort von allen Zuständen der Eingabe ab. Man kann $f(x)$ wie folgt schreiben:\n",
    "$$f(x) = \\bigoplus_{k=0}^{N-1} x_k$$\n",
    "bzw.\n",
    "$$U_f |x\\rangle = (-1)^{f(x)} |x\\rangle = \\bigotimes_{k=0}^{N-1} (-1)^{x_k} |x_{k}\\rangle$$\n",
    "\n",
    "Wie bereits im vorigen Orakel gezeigt wurde, kann dies erreicht werden, indem man ein Z-Gatter auf jedes Qubit anwendet."
   ]
  },
  {
   "cell_type": "code",
   "execution_count": 5,
   "metadata": {},
   "outputs": [
    {
     "data": {
      "application/json": "[\"PhaseOracle_OddNumberOfOnes\"]",
      "text/html": [
       "<ul><li>PhaseOracle_OddNumberOfOnes</li></ul>"
      ],
      "text/plain": [
       "PhaseOracle_OddNumberOfOnes"
      ]
     },
     "execution_count": 5,
     "metadata": {},
     "output_type": "execute_result"
    }
   ],
   "source": [
    "// Function 4. f(x) = wenn x eine ungerade Anzahl von 1en hat, und 0 sonst \n",
    "operation PhaseOracle_OddNumberOfOnes (x : Qubit[]) : Unit is Adj {\n",
    "    ApplyToEachA(Z, x);\n",
    "}"
   ]
  },
  {
   "cell_type": "markdown",
   "metadata": {},
   "source": [
    "### Deutsch-Josza-Operation<a id=\"deutsch_operation\"></a>"
   ]
  },
  {
   "cell_type": "code",
   "execution_count": 6,
   "metadata": {},
   "outputs": [
    {
     "data": {
      "application/json": "[\"DeutschJozsaAlgorithm\"]",
      "text/html": [
       "<ul><li>DeutschJozsaAlgorithm</li></ul>"
      ],
      "text/plain": [
       "DeutschJozsaAlgorithm"
      ]
     },
     "execution_count": 6,
     "metadata": {},
     "output_type": "execute_result"
    }
   ],
   "source": [
    "operation DeutschJozsaAlgorithm(N : Int, oracle : (Qubit[] => Unit)) : Bool {\n",
    "    // Man erstellt eine boolesche Variable zur Speicherung des Rückgabewertes.\n",
    "    // Diese muss später aktualisiert werden, also muss sie als veränderbar deklariert werden.\n",
    "    mutable isConstant = true;\n",
    "    // Allocated ein Array von N Qubits für das Eingangsregister x.\n",
    "    using (x = Qubit[N]) {\n",
    "    \n",
    "        // Neu zugeordnete Qubits starten im Zustand |0⟩.\n",
    "        \n",
    "        // Die Qubits für Orakel vorbereiten.\n",
    "        // Anwenden des Hadamard-Gate auf das Eingangs-Register.\n",
    "        // Ein Qubit kann vom Zustand |0⟩ in den Zustand |+⟩ durch Anlegen eines Hadamard-Gate H transformiert werden\n",
    "        // und vom Zustand |1⟩ in den Zustand |-⟩.\n",
    "        ApplyToEach(H, x);\n",
    "\n",
    "        // Wendet das Orakel auf das Eingangsregister an\n",
    "        oracle(x);\n",
    "        \n",
    "        // Wendet wieder ein Hadamard-Gatter auf jedes Qubit des Eingangsregisters an.\n",
    "        ApplyToEach(H, x);\n",
    "\n",
    "        // Misst jedes Qubit des Eingangsregisters in der Berechnungsgrundlage mit der M-Operation.\n",
    "        // Mit einer for-Schleife kann über den Bereich der Indizes 0..N-1 iteriert werden.\n",
    "        // Hinweis: Die Antwort kann nicht in der Mitte einer Schleife zurückgegeben werden, \n",
    "        // sondern muss mit dem Schlüsselwort \"set\" in der Variablen isConstant aktualisiert werden.\n",
    "        for (q in x) {\n",
    "        Message($\"{M(q)}\");\n",
    "            if (M(q) == One) {\n",
    "                set isConstant = false;\n",
    "            }\n",
    "        }\n",
    "\n",
    "        // Bevor das Programm beendet wird, muss sicher gestellt werden, dass alle Qubits sich im Startzustand \n",
    "        // |0⟩ befinden \n",
    "        // Dazu steht die Bibliotheksoperation Reset zur Verfügung, die ein Qubit misst und ggf. eine Korrektur durchführt.\n",
    "        // Die Bibliotheksoperation ResetAll macht dasselbe für ein Register von Qubits.\n",
    "        ResetAll(x);\n",
    "    }\n",
    "    \n",
    "    // Gibt den Wert der booleschen Variable zurück.\n",
    "    return isConstant;\n",
    "}"
   ]
  },
  {
   "cell_type": "markdown",
   "metadata": {},
   "source": [
    "### Prepare Algorithmus<a id=\"prepare\"></a>"
   ]
  },
  {
   "cell_type": "code",
   "execution_count": 7,
   "metadata": {
    "scrolled": true
   },
   "outputs": [
    {
     "name": "stdout",
     "output_type": "stream",
     "text": [
      "C:/snippet_.qs(25,49): warning QS3001: Extra comma will be ignored.\n"
     ]
    },
    {
     "data": {
      "application/json": "[\"CheckDJ\",\"ConstantOrBalanced\",\"StartDJ\"]",
      "text/html": [
       "<ul><li>CheckDJ</li><li>ConstantOrBalanced</li><li>StartDJ</li></ul>"
      ],
      "text/plain": [
       "CheckDJ, ConstantOrBalanced, StartDJ"
      ]
     },
     "execution_count": 7,
     "metadata": {},
     "output_type": "execute_result"
    }
   ],
   "source": [
    "operation CheckDJ (N : Int, oracle : (Qubit[] => Unit), expectedConst : Bool, functionName : String) : Unit {\n",
    "    Message($\"Testing {functionName}... Erwartet: Function ist {ConstantOrBalanced(expectedConst)}\");\n",
    "\n",
    "    let isConst = DeutschJozsaAlgorithm(N, oracle);\n",
    "    \n",
    "    // check that the return value is correct\n",
    "    if (isConst != expectedConst) {\n",
    "        let actualStr = ConstantOrBalanced(isConst);\n",
    "        let expectedStr = ConstantOrBalanced(expectedConst);\n",
    "        Message($\"als {actualStr} identifiziert, sollte jedoch eine {expectedStr} sein\");\n",
    "    }else {\n",
    "        let actualStr = ConstantOrBalanced(isConst);\n",
    "        Message($\"Funktion ist {actualStr}\");\n",
    "    }  \n",
    "}\n",
    "\n",
    "function ConstantOrBalanced (value : Bool) : String {\n",
    "    return (value ? \"constant\" | \"balanced\");\n",
    "}\n",
    "    \n",
    "operation StartDJ () : Unit {     \n",
    "    Message($\"\");\n",
    "    CheckDJ(4, PhaseOracle_Zero, true, \"f(x) = 0\");\n",
    "    Message($\"\");\n",
    "    CheckDJ(4, PhaseOracle_One, true, \"f(x) = 1\",);\n",
    "    Message($\"\");\n",
    "    CheckDJ(4, PhaseOracle_Xmod2, false, \"f(x) = x mod 2\");\n",
    "    Message($\"\");\n",
    "    CheckDJ(4, PhaseOracle_OddNumberOfOnes, false, \"f(x) = (1, wenn x eine ungerade Anzahl von 1s hat, und sonst 0)\");  \n",
    "}"
   ]
  },
  {
   "cell_type": "code",
   "execution_count": 8,
   "metadata": {},
   "outputs": [
    {
     "name": "stdout",
     "output_type": "stream",
     "text": [
      "\n",
      "Testing f(x) = 0... Erwartet: Function ist constant\n",
      "Zero\n",
      "Zero\n",
      "Zero\n",
      "Zero\n",
      "Funktion ist constant\n",
      "\n",
      "Testing f(x) = 1... Erwartet: Function ist constant\n",
      "Zero\n",
      "Zero\n",
      "Zero\n",
      "Zero\n",
      "Funktion ist constant\n",
      "\n",
      "Testing f(x) = x mod 2... Erwartet: Function ist balanced\n",
      "Zero\n",
      "Zero\n",
      "Zero\n",
      "One\n",
      "Funktion ist balanced\n",
      "\n",
      "Testing f(x) = (1, wenn x eine ungerade Anzahl von 1s hat, und sonst 0)... Erwartet: Function ist balanced\n",
      "One\n",
      "One\n",
      "One\n",
      "One\n",
      "Funktion ist balanced\n"
     ]
    },
    {
     "data": {
      "application/json": "{\"@type\":\"tuple\"}",
      "text/plain": [
       "()"
      ]
     },
     "execution_count": 8,
     "metadata": {},
     "output_type": "execute_result"
    }
   ],
   "source": [
    "%simulate StartDJ"
   ]
  },
  {
   "cell_type": "markdown",
   "metadata": {},
   "source": [
    "# References\n",
    "## Code\n",
    "\n",
    "\n",
    "## Explanations\n",
    "\n",
    "- [E1] [Deutsch-Jozsa-Algorithmus](https://de.wikipedia.org/wiki/Deutsch-Jozsa-Algorithmus)<a id=\"rE1\"></a> <br>\n",
    "\n",
    "\n",
    "\n",
    "\n",
    "## Other Rescources\n",
    "- [O1] [Quantenschaltkreis - Algorithmus von Deutsch](https://de.wikipedia.org/wiki/Datei:Deutsch_algorithm_circuit.svg)<a id=\"rO2\"></a> <br>\n",
    "\n",
    "- [O2] [Quantenschaltkreis - Algorithmus von Deutsch-Jozsa](https://de.wikipedia.org/wiki/Datei:Deutsch-Jozsa_algorithm_circuit.svg)<a id=\"rO2\"></a> <br>"
   ]
  }
 ],
 "metadata": {
  "kernelspec": {
   "display_name": "Q#",
   "language": "qsharp",
   "name": "iqsharp"
  },
  "language_info": {
   "file_extension": ".qs",
   "mimetype": "text/x-qsharp",
   "name": "qsharp",
   "version": "0.4"
  }
 },
 "nbformat": 4,
 "nbformat_minor": 2
}
