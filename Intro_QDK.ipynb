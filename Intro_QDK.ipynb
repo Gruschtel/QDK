{
 "cells": [
  {
   "cell_type": "markdown",
   "metadata": {},
   "source": [
    "![bloch_sphere](_image/intro.png)"
   ]
  },
  {
   "cell_type": "markdown",
   "metadata": {},
   "source": [
    "Dieses Notebook befasst sich mit den grundlegenden Konzepten, die zum Erstellen von Quantenprogrammen in Q# benötigt werden.\n",
    "Für dieses Notebook wird vorausgesetzt, dass bereits erstes Wissen bzgl. Quantum Computing und Information besteht. **Stand 16.01.2020.**"
   ]
  },
  {
   "cell_type": "code",
   "execution_count": 1,
   "metadata": {},
   "outputs": [
    {
     "data": {
      "application/json": "{\"rows\":[{\"@type\":\"@tuple\",\"Item1\":\"iqsharp\",\"Item2\":\"0.10.1912.501\"},{\"@type\":\"@tuple\",\"Item1\":\"Jupyter Core\",\"Item2\":\"1.2.20112.0\"},{\"@type\":\"@tuple\",\"Item1\":\".NET Runtime\",\"Item2\":\".NETCoreApp,Version=v3.0\"}]}",
      "text/html": [
       "<table><thead><tr><th>Component</th><th>Version</th></tr></thead><tbody><tr><td>iqsharp</td><td>0.10.1912.501</td></tr><tr><td>Jupyter Core</td><td>1.2.20112.0</td></tr><tr><td>.NET Runtime</td><td>.NETCoreApp,Version=v3.0</td></tr></tbody></table>"
      ],
      "text/plain": [
       "Component    Version\r\n",
       "------------ ------------------------\r\n",
       "iqsharp      0.10.1912.501\r\n",
       "Jupyter Core 1.2.20112.0\r\n",
       ".NET Runtime .NETCoreApp,Version=v3.0\r\n"
      ]
     },
     "metadata": {},
     "output_type": "display_data"
    }
   ],
   "source": [
    "%version"
   ]
  },
  {
   "cell_type": "markdown",
   "metadata": {},
   "source": [
    "# Voraussetzungen\n",
    "\n",
    "Jupyter Notebook ist ein beliebtes Tool in der Wissenschaft und Forschung sowie bei der onlinebasierten kollaborativen Programmierung. Es zeichnet sich durch die Möglichkeit der direkten Codeausführung, seiner Anweisungen, Hinweise sowie andere Inhalte aus. Hier sind die Schritte aufgeführt, die Sie zum Erstellen eigener Q#-Notebooks ausführen müssen.\n",
    "\n",
    "IQ# ist eine hauptsächlich von Jupyter und Python genutzte Erweiterung für das .NET Core SDK, welche die Kernfunktionen für das Kompilieren und Simulieren von Q#-Vorgängen bereitstellt.\n",
    "\n",
    "\n",
    "- [Python 3.6](https://www.python.org/downloads/) oder höher\n",
    "- [Jupyter Notebook](https://jupyter.readthedocs.io/en/latest/install.html)\n",
    "- [.NET Core SDK 3.0](https://dotnet.microsoft.com/download) oder höher\n",
    "\n",
    "Bevor Q#-Code ausgeführt werden kann, muss das Jupyter Notebook zunächst eine passende Umgebung bereitstellen. Hierzu muss nach Installation des .NET Core SDKs die Eingabeaufforderung geöffnet werden und die folgende Befehle ausgeführt werden. Achtung: Nach jeder Ausführung, muss die Eingabeaufforderung geschlossen und neu gestartet werden!\n",
    "- dotnet tool install -g Microsoft.Quantum.IQSharp\n",
    "- dotnet iqsharp install\n",
    "\n",
    "# Table of Contents\n",
    "\n",
    "- [Qubit](#introduction)<br>\n",
    "- [Q#-Introduction](#q_introduction)<br>\n",
    " - [Operationen](#operationANDfunktions)<br>\n",
    " - [Funktionen](#funktionen)<br>\n",
    " - [Modifikation von Operationen](#adjungiert)<br>\n",
    " - [Variablen](#variables)<br>\n",
    " - [Control Flow](#controlflow)<br>\n",
    "- [Microsoft Qubits](#qubits)<br>\n",
    " - [Allocating](#allocating)<br>\n",
    " - [Intrinsic Operations](#intrinsic)<br>\n",
    " - [Reset](#reset )<br>\n",
    " - [Teleportation](#teleportation)<br>\n",
    "\n",
    "\n",
    "\n",
    "# Qubit<a id=\"introduction\"></a>\n",
    "\n",
    "Ein Qubit (Quantum Bit) bildet die Basis für Quanten Computern, ähnlich wie dem Bit, welches das grundlegende Objekt bei klassischen Computern ist. Klassische Bits speichern Informationen indem sie als Bitmuster abgespeichert werden. Ein Bitmuster wird durch eine Kombination von Nullen und Einsen im Computer dargestellt. Ein klassisches Bit kann also lediglich den Zustand \"0\" oder \"1\" annehmen, aber nicht beide Zustände zur gleichen Zeit. Einer der größten Unterschiede zwischen einem klassischen Bit und einen Qubit ist, dass ein Qubit neben den Zuständen \"0\" **oder** \"1\", ebenfalls \"0\" **und** \"1\" sein kann. Man spricht hier auch von einer Quantum-Superposition.\n",
    "\n",
    "Der bequemste Weg, den Zustand eines Qubits mathematisch darzustellen, ist mithilfe eines zweidimensionalen Vektorraumes in ℂ mit den orthonormalen Basen |0⟩ und |1⟩. Die Superposition |𝜓⟩ eines Qubit wird dargestellt durch die Linearkombination\n",
    "der Basisvektoren:\n",
    "\n",
    "\n",
    "$$\n",
    "|\\psi\\rangle\\ =\\ |\\alpha\\rangle\\ +\\ |\\beta\\rangle\n",
    "$$\n",
    "\n",
    "\n",
    "Hier gilt 𝛼 als komplexe skalare Amplitude der Messung von |0⟩, respektive ist 𝛽 die Amplitude der Messung des Wertes |1⟩. Amplituden werden auch als Quantenwahrscheinlichkeiten betrachtet, da diese die Möglichkeit darstellen, dass ein bestimmter\n",
    "Quantenzustand beobachtet wird, nachdem ein Qubit gemessen wird.\n",
    "\n",
    "Um die einfachsten Quantensysteme bzw. Qubits zu beschreiben, bedient man sich der anschaulichen Darstellung der Bloch-Kugel (englisch Blocksphere). Mithilfe dieser Kugeldarstellung können neben Messungen auch Operationen und Überlagerungszustände von Qubits veranschaulicht werden.\n",
    "\n",
    "![bloch_sphere](_image/bloch_sphere.png) [O3](#rO3)\n",
    "\n",
    "# Q#-Introduction<a id=\"q_introduction\"></a>\n",
    "\n",
    "Q# ist eine skalierbare, domänenspezifische Programmiersprache mit mehreren Paradigmen für das Programmieren von Quantum Anwendungen. Aus technischer Sicht kann ein Q# Programm als ein bestimmter Satz klassischer Funktionen angesehen werden, welche beim Aufrufen als Nebeneffekte Quantum-Verbindungen generieren. Dies bedeutet, dass ein in Q# geschriebenes Programm Qubits nicht direkt selbst erzeugt, sondern beschreibt, wie ein klassischer Computer mit diesen Qubits interagiert. Entwurfsbedingt definiert Q# daher nicht die Quantum-Zustände oder andere Eigenschaften von Quantum-Mechanismen direkt, sondern indirekt durch die Aktion der verschiedenen Unterroutinen, die in der Sprache definiert sind.\n",
    "\n",
    "Durch die Abstraktion der Programmiersprache Q#, können komplexe Quanten-Vorgänge, leicht auf höherer Ebene programmiert werden, ohne sich tiefer mit den untersten Ebenen der Quanten-Physik auseinandersetzten zu müssen. Beim Kompilieren der Q#-Anwendung werden diese Abstraktionen für jeden Client-Rechner, auf denen die Simulation ausgeführt wird, neu definiert und die Ausdrücke der Anwendung in komplexe Quanten-Logik umgewandelt. So wird beispielsweise durch die Angabe eines Befehls dieser direkt auf ein Qubit ausgeführt. Im folgenden Beispiel wird zunächst ein Qubit erstellt, danach eine Hadamard-Transformation auf diese Qubit angewandt und anschließend gemessen."
   ]
  },
  {
   "cell_type": "code",
   "execution_count": 2,
   "metadata": {},
   "outputs": [
    {
     "data": {
      "application/json": "[\"HadamardTransformation\"]",
      "text/html": [
       "<ul><li>HadamardTransformation</li></ul>"
      ],
      "text/plain": [
       "HadamardTransformation"
      ]
     },
     "execution_count": 2,
     "metadata": {},
     "output_type": "execute_result"
    }
   ],
   "source": [
    "operation HadamardTransformation() : Result {\n",
    "    // Qubit erstellen\n",
    "    using(q = Qubit())  { \n",
    "        // Zustand des Qubits beim erstellen ist immer |0⟩.\n",
    "        \n",
    "        // Qubit wird per Hadamard-Transformation eine Superposition gebracht. 50%ige Chance, |0〉 oder |1〉 zu sein.\n",
    "        H(q);      \n",
    "        \n",
    "        // Messen des Qubits\n",
    "        let r = M(q);     \n",
    "        \n",
    "        // Freigabe und rückgabe des Qubits\n",
    "        Reset(q);\n",
    "        return r;\n",
    "    }\n",
    "}"
   ]
  },
  {
   "cell_type": "markdown",
   "metadata": {},
   "source": [
    "In Jupyter Notebooks kann mit dem Befehl **%simulate <Operation_Name>**, ein zuvor umgewandelter Q#-Code simuliert werden. Die Ausgabe eines Qubit-Zustands erfolgt durch die Rückgabe seines Zustandes \"Zero\" -> |0⟩ oder \"One\" -> |1⟩"
   ]
  },
  {
   "cell_type": "code",
   "execution_count": 3,
   "metadata": {},
   "outputs": [
    {
     "data": {
      "application/json": "0",
      "text/plain": [
       "Zero"
      ]
     },
     "execution_count": 3,
     "metadata": {},
     "output_type": "execute_result"
    }
   ],
   "source": [
    "%simulate HadamardTransformation"
   ]
  },
  {
   "cell_type": "markdown",
   "metadata": {},
   "source": [
    "Die Programmiersprache Q# kann für verschiedene Programme genutzt werden, beispielsweise von einfachen \"HelloWorld\"-Programmen, wie dem Teleport (Verschränkung von Qubits) oder aber auch für große, anspruchsvolle Programme, wie Simulationen komplexer Moleküle, welche eine große Rechenleistung benötigen. Obwohl große physische Quanten-Computer aktuell noch nicht frei verfügbar sind (für das QDK), können bis zu 30 Qubits simuliert werden.\n",
    "\n",
    "## Operationen <a id=\"operationANDfunktions\"></a>\n",
    "\n",
    "Q#-Programme bestehen aus einer oder mehreren Operationen, die Nebenwirkungen beschreiben, die Quantenoperationen auf Quantendaten haben können und einer oder mehreren Funktionen, die Änderungen an klassischen Daten ermöglichen. Eine Q#-Operation ist also  eine aufrufbare Routine, die Quantenoperationen enthält. \n",
    "\n",
    "Jede in Q# definierte Operation kann dann eine beliebige Anzahl von vorher oder im selben Aufruf definierten Operationen aufrufen. Die besondere Art und Weise, wie diese Operationen definiert werden, hängt von der auszuführenden Plattform ab. Beim Kompilieren wird jede Operation als eine .NET-Klassentyp dargestellt, der nur dieser einen Plattform zur Verfügung gestellt werden kann.\n",
    "\n",
    "Der grundlegendste Baustein eines in Q# geschriebenen Quantenprogramms ist eine Operation, die entweder aus klassischem .NET-Code, z. B. mit einem Simulator, oder durch andere Operationen in Q# aufgerufen werden kann. Jede Operation nimmt eine Eingabe entgegen und erzeugt eine Ausgabe. Zum Beispiel erfordert folgende Operation als Eingabe ein Qubit und wendet auf dieses Qubit eine X-Operation an. Die X-Operation wird durch das Framework bereitgestellt und ändert den Zustand eines Qubits auf einen anderen Wert - 0 -> 1, 1 -> 0."
   ]
  },
  {
   "cell_type": "code",
   "execution_count": 4,
   "metadata": {},
   "outputs": [
    {
     "data": {
      "application/json": "[\"BitFlip\",\"Test_1\"]",
      "text/html": [
       "<ul><li>BitFlip</li><li>Test_1</li></ul>"
      ],
      "text/plain": [
       "BitFlip, Test_1"
      ]
     },
     "execution_count": 4,
     "metadata": {},
     "output_type": "execute_result"
    }
   ],
   "source": [
    "// Benötigt ein Qubit als Übergabeparameter und liefert einen Wert (Unit) zurück\n",
    "operation BitFlip(target : Qubit) : Unit {\n",
    "    // Wert des Qubits wird \"geflippt\". 0 wird zu 1 und 1 wird zu 0.\n",
    "    X(target);\n",
    "}\n",
    "\n",
    "operation Test_1() : Result {\n",
    "    // Qubit erstellen\n",
    "    using(q = Qubit())  { \n",
    "    \n",
    "        // Zustand des Qubits beim erstellen ist immer |0⟩\n",
    "        // An dieser Stelle wird die Operation BitFlip aufgerufen\n",
    "        // Die Operation BitFlip verlangt ein Qubit und liefert eine Unit (Lambda-Ausdruck für einen Wert) zurück\n",
    "        BitFlip(q); \n",
    "        \n",
    "        // Messen des Qubits\n",
    "        // Da ein Qubit beim erstellen immer |0⟩ ist, müsste beim Messen des Ergebnis |1⟩ erscheinen\n",
    "        let r = M(q);     \n",
    "        \n",
    "        // Freigabe und rückgabe des Qubits\n",
    "        Reset(q);\n",
    "        return r;\n",
    "    }\n",
    "}"
   ]
  },
  {
   "cell_type": "code",
   "execution_count": 5,
   "metadata": {},
   "outputs": [
    {
     "data": {
      "application/json": "1",
      "text/plain": [
       "One"
      ]
     },
     "execution_count": 5,
     "metadata": {},
     "output_type": "execute_result"
    }
   ],
   "source": [
    "%simulate Test_1"
   ]
  },
  {
   "cell_type": "markdown",
   "metadata": {},
   "source": [
    "Das Schlüsselwort **operation** definiert eine Quantum-Operation, gefolgt mit dem Namen der Operation. Als Nächstes wird der Typ der Eingabe definiert, zusammen mit einem Namensziel. Ebenso benötigt eine Operation einen Rückgabewert (Unit steht für eine leere Rückgabe).\n",
    "\n",
    "Aufbau eines Operation-Headers: operation **NAME**( **EINGABE** ) : **RÜCKGABE_TYP** { ... }\n",
    "\n",
    "**Wichtig**: <br>\n",
    "\n",
    "- Jede Operation in Q# nimmt genau eine Eingabe und gibt genau eine Ausgabe zurück. Mehrere Ein- und Ausgänge werden durch Tupeln dargestellt, die mehrere Werte zu einem einzigen Wert zusammenfassen. Nach diesem Konzept sollte () dann als \"leeres\" Tupel gelesen werden, das den Typ \"Unit\" hat. Operationen mit dem Rückgabe-Typ Unit, benötigen kein return.\n",
    "\n",
    "- Änderungen innerhalb von Operationen haben ebenfalls Auswirkungen auf die übergebene Qubits. Ähnlich dem C++ Call-by-Referenc-Prinzip."
   ]
  },
  {
   "cell_type": "code",
   "execution_count": 6,
   "metadata": {},
   "outputs": [
    {
     "data": {
      "application/json": "[\"EingabeRueckgabe\",\"Test_2\"]",
      "text/html": [
       "<ul><li>EingabeRueckgabe</li><li>Test_2</li></ul>"
      ],
      "text/plain": [
       "EingabeRueckgabe, Test_2"
      ]
     },
     "execution_count": 6,
     "metadata": {},
     "output_type": "execute_result"
    }
   ],
   "source": [
    "// Diese Operation verlangt zwei Qubits und liefert ebenfalls zwei Result, Werte zurück\n",
    "// Result -> Gibt Variablen vom Wert let zurück\n",
    "operation EingabeRueckgabe(here : Qubit, there : Qubit) : (Result, Result) {\n",
    "    \n",
    "    // Wir Messen beide Qubits\n",
    "    let firstBit = M(there);\n",
    "    let secondBit = M(here);\n",
    "    \n",
    "    // Rückgabe der Werte firstBit und secondBit\n",
    "    return (firstBit, secondBit);\n",
    "}\n",
    "\n",
    "operation Test_2() : (Result, Result) {\n",
    "    using ((msg, target) = (Qubit(), Qubit())) {\n",
    "    \n",
    "        let r = EingabeRueckgabe(msg, target);\n",
    "         \n",
    "        return r;\n",
    "    }\n",
    "}"
   ]
  },
  {
   "cell_type": "code",
   "execution_count": 7,
   "metadata": {},
   "outputs": [
    {
     "data": {
      "application/json": "{\"@type\":\"@tuple\",\"Item1\":0,\"Item2\":0}",
      "text/plain": [
       "(Zero, Zero)"
      ]
     },
     "execution_count": 7,
     "metadata": {},
     "output_type": "execute_result"
    }
   ],
   "source": [
    "%simulate Test_2"
   ]
  },
  {
   "cell_type": "markdown",
   "metadata": {},
   "source": [
    "## Funktionen<a id=\"funktionen\"></a>\n",
    "\n",
    "Q# erlaubt neben der Definition von Operationen auch die Definition von Funktionen. Q#-Funktionen sind vergleichbar mit klassischen Methoden-Aufrufen wie zum Beispiel in Java.\n",
    "\n",
    "Eine Q#-Funktion ist ein klassisches Unterprogramm, das innerhalb eines Quantenalgorithmus verwendet wird. Sie kann klassischen Code, aber keine Quantenoperationen enthalten. Insbesondere dürfen Funktionen keine Qubits zuweisen oder ausleihen und keine Operationen aufrufen. Es ist jedoch möglich, ihnen Operationen oder Qubits zur Verarbeitung zu übergeben. Funktionen sind also deterministisch in dem Sinn, dass ihr Aufruf mit den gleichen Argumenten immer zum gleichen Ergebnis führt. \n",
    "\n",
    "Das Definieren einer Funktion funktioniert ähnlich wie das Definieren einer Operation, außer dass keine angrenzenden oder kontrollierten Spezialisierungen für eine Funktion definiert werden können."
   ]
  },
  {
   "cell_type": "code",
   "execution_count": 8,
   "metadata": {},
   "outputs": [
    {
     "data": {
      "application/json": "[\"Square\",\"Test_3\"]",
      "text/html": [
       "<ul><li>Square</li><li>Test_3</li></ul>"
      ],
      "text/plain": [
       "Square, Test_3"
      ]
     },
     "execution_count": 8,
     "metadata": {},
     "output_type": "execute_result"
    }
   ],
   "source": [
    "function Square(x : Double) : (Double) {\n",
    "    return x * x;\n",
    "}\n",
    "\n",
    "\n",
    "operation Test_3() : Double {\n",
    "    return Square(5.0);\n",
    "}"
   ]
  },
  {
   "cell_type": "code",
   "execution_count": 9,
   "metadata": {},
   "outputs": [
    {
     "data": {
      "application/json": "25.0",
      "text/plain": [
       "25"
      ]
     },
     "execution_count": 9,
     "metadata": {},
     "output_type": "execute_result"
    }
   ],
   "source": [
    "%simulate Test_3"
   ]
  },
  {
   "cell_type": "markdown",
   "metadata": {},
   "source": [
    "Q#-Anwendungen sollten immer so geschrieben werden, das klassische Logik in Funktionen ausgeführt und Quanten Logik in Operationen. Dadurch kann klassischer Code einfacher in Q#-Anwendungen genutzt werden. Wäre zum Beispiel Square als Operation geschrieben worden, dann hätte der Compiler nicht garantieren können, dass jeder Aufruf mit identischen Eingaben konsistente oder gleiche Ausgaben erzeugen würde."
   ]
  },
  {
   "cell_type": "markdown",
   "metadata": {},
   "source": [
    "## Modifikation von Operationen <a id=\"adjungiert\"></a>\n",
    "\n",
    "Wenn eine Operation eine unitäre Transformation auf ein Qubit anwendet, ist es möglich zu definieren, wie diese Operation sich verhält. Es gibt dabei zwei Arten von Verhalten. Ein adjungierte und kontrollierte \"Spezialisierung\". Die adjungierte Spezialisierung gibt an, wie sich eine Operation auf ein Qubit bei umgekehrter Ausführung verhalten soll. Während eine kontrollierte Spezialisierung angibt, wie sich eine Operation auf den Zustand der normale Durchlauf auf ein Qubit-/Quantum-Register auswirken soll. Eine oder mehrer Spezialisierungen können im Operations-Kopf also in der Operationssignatur deklariert werden.\n",
    "\n",
    "Um eine Spezialisierung einer Operation aufzurufen, benutzt man die Schlüsselwörter Adjoint (Adj) oder Controlled (Ctl)."
   ]
  },
  {
   "cell_type": "code",
   "execution_count": 10,
   "metadata": {},
   "outputs": [
    {
     "data": {
      "application/json": "[\"Modifikation_1\",\"Test_4\"]",
      "text/html": [
       "<ul><li>Modifikation_1</li><li>Test_4</li></ul>"
      ],
      "text/plain": [
       "Modifikation_1, Test_4"
      ]
     },
     "execution_count": 10,
     "metadata": {},
     "output_type": "execute_result"
    }
   ],
   "source": [
    "// Wendet das CNOT Gater an\n",
    "operation Modifikation_1(here : Qubit, there : Qubit) : Unit \n",
    "is Adj + Ctl {\n",
    "    H(here);\n",
    "    CNOT(here, there);  \n",
    "}\n",
    "\n",
    "\n",
    "operation Test_4() : (Result, Result) {\n",
    "    using ((msg, target) = (Qubit(), Qubit())) {\n",
    "        \n",
    "        //\n",
    "        Modifikation_1(msg, target); \n",
    "        \n",
    "        // Da ein Qubit beim erstellen immer |0⟩ ist, müsste beim Messen des Ergebnis |1⟩ erscheinen\n",
    "        let r = M(msg);\n",
    "        let r2 = M(target);\n",
    "        \n",
    "        //\n",
    "        Reset(msg);\n",
    "        Reset(target);\n",
    "        \n",
    "        //\n",
    "        return (r,r2);\n",
    "    }\n",
    "}"
   ]
  },
  {
   "cell_type": "code",
   "execution_count": 11,
   "metadata": {},
   "outputs": [
    {
     "data": {
      "application/json": "{\"@type\":\"@tuple\",\"Item1\":1,\"Item2\":1}",
      "text/plain": [
       "(One, One)"
      ]
     },
     "execution_count": 11,
     "metadata": {},
     "output_type": "execute_result"
    }
   ],
   "source": [
    "%simulate Test_4"
   ]
  },
  {
   "cell_type": "markdown",
   "metadata": {},
   "source": [
    "Wenn die Implementierung nicht durch den Compiler erzeugt werden kann oder diese explizit angegeben werden soll, kann dies händisch geschehen. Solche expliziten Spezialisierungsdeklarationen können aus einer geeigneten Generierungsdirektive oder einer benutzerdefinierten Implementierung bestehen. Der obige Code in Modifikation_1 ist äquivalent zum nachfolgenden Code der operation Modifikation_2, der explizite Spezialisierungsdeklarationen enthält.\n",
    "\n",
    "Das Schlüsselwort \"auto\" gibt an, dass der Compiler bestimmt, wie die Spezialisierungsimplementierung erzeugt werden soll. "
   ]
  },
  {
   "cell_type": "code",
   "execution_count": 12,
   "metadata": {},
   "outputs": [
    {
     "data": {
      "application/json": "[\"Modifikation_2\",\"Test_5\"]",
      "text/html": [
       "<ul><li>Modifikation_2</li><li>Test_5</li></ul>"
      ],
      "text/plain": [
       "Modifikation_2, Test_5"
      ]
     },
     "execution_count": 12,
     "metadata": {},
     "output_type": "execute_result"
    }
   ],
   "source": [
    "operation Modifikation_2(here : Qubit, there : Qubit) : Unit { \n",
    "    // Operaton-Body beinhaltet, was beim Aufrufen der Operation ausgeführt werden soll\n",
    "      body (...) { // default body specialization\n",
    "        H(here);\n",
    "        CNOT(here, there);\n",
    "    }\n",
    "\n",
    "    // Zusätzliche Einstellungen der Spezialisierungen/Modifizierungen der Operation\n",
    "    adjoint auto; // auto-generate adjoint specialization\n",
    "    controlled auto; // auto-generate controlled specialization\n",
    "    controlled adjoint auto; // auto-generate controlled adjoint specialization\n",
    "}\n",
    "\n",
    "operation Test_5() : (Result, Result) {\n",
    "    using ((msg, target) = (Qubit(), Qubit())) {\n",
    "        Modifikation_2(msg, target); \n",
    "        \n",
    "        let r = M(msg);\n",
    "        let r2 = M(target);\n",
    "        \n",
    "        Reset(msg);\n",
    "        Reset(target);\n",
    "        \n",
    "        return (r,r2);\n",
    "    }\n",
    "}"
   ]
  },
  {
   "cell_type": "code",
   "execution_count": 13,
   "metadata": {},
   "outputs": [
    {
     "data": {
      "application/json": "{\"@type\":\"@tuple\",\"Item1\":0,\"Item2\":0}",
      "text/plain": [
       "(Zero, Zero)"
      ]
     },
     "execution_count": 13,
     "metadata": {},
     "output_type": "execute_result"
    }
   ],
   "source": [
    "%simulate Test_5"
   ]
  },
  {
   "cell_type": "markdown",
   "metadata": {},
   "source": [
    "Wenn der Compiler die Implementierung für eine bestimmte Spezialisierung nicht automatisch generieren kann oder wenn eine effizientere Implementierung angegeben werden kann, dann kann die Implementierung auch manuell definiert werden."
   ]
  },
  {
   "cell_type": "code",
   "execution_count": 14,
   "metadata": {},
   "outputs": [
    {
     "data": {
      "application/json": "[\"Modifikation_3\",\"Test_6\"]",
      "text/html": [
       "<ul><li>Modifikation_3</li><li>Test_6</li></ul>"
      ],
      "text/plain": [
       "Modifikation_3, Test_6"
      ]
     },
     "execution_count": 14,
     "metadata": {},
     "output_type": "execute_result"
    }
   ],
   "source": [
    "operation Modifikation_3(here : Qubit, there : Qubit) : Unit { \n",
    "    // impliziert die Existenz einer adjungierten, einer kontrollierten und einer kontrollierten adjungierten Spezialisierung\n",
    "      body (...) { // default body specialization\n",
    "        H(here);\n",
    "        CNOT(here, there);\n",
    "    }\n",
    "\n",
    "    controlled (cs, ...) { // benutzerdefinierte Implementierung für die kontrollierte Spezialisierung\n",
    "        Controlled H(cs, here);\n",
    "        Controlled X(cs + [here], there);\n",
    "    }\n",
    "\n",
    "    adjoint invert; \n",
    "    controlled adjoint invert; \n",
    "}\n",
    "\n",
    "operation Test_6() : (Result, Result) {\n",
    "    using ((msg, target) = (Qubit(), Qubit())) {\n",
    "    \n",
    "        Adjoint Modifikation_3(msg, target); \n",
    "        // Controlled Modifikation_3(msg, target); \n",
    "        \n",
    "        let r = M(msg);\n",
    "        let r2 = M(target);\n",
    "        \n",
    "        Reset(msg);\n",
    "        Reset(target);\n",
    "        \n",
    "        return (r,r2);\n",
    "    }\n",
    "}"
   ]
  },
  {
   "cell_type": "code",
   "execution_count": 15,
   "metadata": {},
   "outputs": [
    {
     "data": {
      "application/json": "{\"@type\":\"@tuple\",\"Item1\":0,\"Item2\":0}",
      "text/plain": [
       "(Zero, Zero)"
      ]
     },
     "execution_count": 15,
     "metadata": {},
     "output_type": "execute_result"
    }
   ],
   "source": [
    "%simulate Test_6"
   ]
  },
  {
   "cell_type": "markdown",
   "metadata": {},
   "source": [
    "Das oben genannte Beispiel kann auch kompakter implementiert werden, indem man den Adjunkt von Modifikation_4 verwendet, durch das Schlüsselwort adjoint wird die Operation Modifikation_4 rückwärts durchlaufen."
   ]
  },
  {
   "cell_type": "code",
   "execution_count": 16,
   "metadata": {},
   "outputs": [
    {
     "data": {
      "application/json": "[\"Modifikation_4\",\"Test_7\"]",
      "text/html": [
       "<ul><li>Modifikation_4</li><li>Test_7</li></ul>"
      ],
      "text/plain": [
       "Modifikation_4, Test_7"
      ]
     },
     "execution_count": 16,
     "metadata": {},
     "output_type": "execute_result"
    }
   ],
   "source": [
    "// Die Methode wenden zunächst eine Hadarmard-Tranformation auf das here Qubit an\n",
    "// und anschliesend ein CNOT-Gate auf die zwei übergebene Qubits\n",
    "operation Modifikation_4(here : Qubit, there : Qubit) : Unit { \n",
    "    // impliziert die Existenz einer adjungierten, einer kontrollierten und einer kontrollierten adjungierten Spezialisierung\n",
    "      body (...) { // default body specialization\n",
    "        H(here);\n",
    "        CNOT(here, there);\n",
    "    }\n",
    "\n",
    "    controlled (cs, ...) { // benutzerdefinierte Implementierung für die kontrollierte Spezialisierung\n",
    "        Controlled H(cs, here);\n",
    "        Controlled X(cs + [here], there);\n",
    "    }\n",
    "\n",
    "    adjoint invert; \n",
    "    controlled adjoint invert; \n",
    "}\n",
    "\n",
    "operation Test_7() : (Result, Result) {\n",
    "    using ((msg, target) = (Qubit(), Qubit())) {\n",
    "    \n",
    "        //\n",
    "        // Adjoint wurde mittels invert deklariert -> Dies bedeutet, dass die Operation beim aufrufen über ajdoint\n",
    "        // rückwärts durchlaufen wird\n",
    "        //\n",
    "        Adjoint Modifikation_4(msg, target); \n",
    "        \n",
    "        // Da die Operation rückwärts durchlaufen wird, wird zunächst das CNOT-Gate durchlaufen\n",
    "        // Das Kontroll-Qubit hat den Zustand 0 -> Target Bit ändernt sich nicht\n",
    "        // Dann erfolgt eine Hardamard-Transformation auf das Kontroll-Qubit\n",
    "        let r = M(msg);\n",
    "        let r2 = M(target);\n",
    "        \n",
    "        Reset(msg);\n",
    "        Reset(target);\n",
    "        \n",
    "        return (r,r2);\n",
    "    }\n",
    "}"
   ]
  },
  {
   "cell_type": "code",
   "execution_count": 17,
   "metadata": {},
   "outputs": [
    {
     "data": {
      "application/json": "{\"@type\":\"@tuple\",\"Item1\":1,\"Item2\":0}",
      "text/plain": [
       "(One, Zero)"
      ]
     },
     "execution_count": 17,
     "metadata": {},
     "output_type": "execute_result"
    }
   ],
   "source": [
    "%simulate Test_7"
   ]
  },
  {
   "cell_type": "markdown",
   "metadata": {},
   "source": [
    "## Variablen<a id=\"variables\"></a>\n",
    "\n",
    "Um Zustände und Werte in Q# zwischenzuspeichern oder Werte wiederzuverwenden ist Q# in der Lage diese in Variablen zu speichern. Q# kennt mehrere unterschiedliche Datentypen, definiert im Code jedoch Variablen nur mit dem Schlüsselwort \"let\". Der Compiler entscheidet bei der Ausführung des Codes automatisch, um welchen Datentyp es sich handelt. Zu beachten ist, dass jede Variable einen Startwert benötigt. Variablen sind ebenfalls nur in ihrer erstellten Umgebung gültig.\n",
    "\n",
    "Variablen in Q# sind unveränderlich. Unveränderlich bedeutet, dass eine Variable nicht mehr geändert werden kann, sobald eine Variable auf diese Weise definiert wurde. Dies ermöglicht eine Reihe nützlicher Optimierungen, einschließlich der Optimierung der klassischen Logik, die auf Variablen angewendet wird, welche für die Anwendung der Adjoint-Variante eines Vorgangs neu angeordnet werden.\n",
    "\n",
    "Zum Beispiel - Deklarationen von unveränderten Variablen:\n",
    "- let doubleValue = 5.9;\n",
    "- let intValue = 5;\n",
    "- let stringValue = \"Test\";\n",
    "\n",
    "\n",
    "### Veränderlichkeit\n",
    "\n",
    "Als Alternative zum Erstellen einer Variablen mit \"let\", kann das Schlüsselwort \"mutable\" genutzt werden. \"Mutable\" ist eine spezieller Variablentyp, welcher ermöglicht, den Wert einer Variable nachträglich zu ändern. Dazu muss das Schlüsselwort \"set\" auf eine Variable angewandt werden.\n",
    "\n",
    "Beispiel - Deklarationen von veränderbaren Variablen:\n",
    "- mutable intValue = 6;\n",
    "- set intValue = 10;\n",
    "\n",
    "### Primitive Typen\n",
    "\n",
    "Q # stellt beide primitiven Typen bereit, die direkt verwendet werden können und eine Vielzahl von Möglichkeiten, um neue Typen aus anderen Typen zu entwickeln. Die Sprache Q# stellt mehrere primitive Typen bereit. Eigene Typen können über diese primitiven Typen definiert werden:\n",
    "\n",
    "- **int** -> 64-Bit-Ganzzahl \n",
    "- **double** -> Gleitkommazahl\n",
    "- **Bool** -> boolescher Wert, der entweder true oder false sein kann\n",
    "- **Qubit** -> Qubit-Typ, stellt ein Quantenbit oder Qubit dar \n",
    "- **Pauli** -> Pauli-Typ, stellt einen der vier Single-Qubit-Pauli-Operatoren dar. Dieser Typ wird verwendet, um den Basis Vorgang für Drehungen anzugeben und um die zu messenden Parameter anzugeben. Dabei handelt es sich um einen enumerierten Typ, der über vier mögliche Werte verfügt, bei denen es sich um Konstanten vom Typ Pauli handelt: PauliI, PauliX, PauliYund PauliZ \n",
    "- **Result** -> Result Typ, stellt das Ergebnis einer Messung dar. Dabei handelt es sich um einen enumerierten Typ mit zwei möglichen Werten, bei denen es sich um Konstanten vom Typ Result handelt: One und Zero. Zero gibt an, dass der Eigen Wert +1 gemessen wurde, One gibt den eigen Wert -1 an\n",
    "- **Range** -> Range-Typ, stellt eine Sequenz von ganzen Zahlen dar, die durch \"start/step/stop\"-Werte definiert wird. Start gibt den Start der Squenz an, Stop der letzte Wert der Sequenz. Step gibt die Sprünge von Wert zu Wertn an \n",
    "- **String** -> Der String-Typ ist eine Sequenz von Unicode-Zeichen, die für den Benutzer nach der Erstellung nicht transparent ist. Dieser Typ wird verwendet, um Nachrichten an einen klassischen Host zu melden, wenn ein Fehler oder ein Diagnose Ereignis vorliegt\n",
    "- **Unit** -> Der Unit-Typ (ähnlich dem void aus Java) ist ein leerer Typ, der nur einen Wert zulässt (leere Menge). Dieser Typ wird verwendet, um anzugeben, dass die Q#-Funktion oder der Vorgang keine Informationen zurückgibt\n",
    "\n",
    "### Array\n",
    "\n",
    "Q# kennt ebenfalls Arrays als Datentyp. Ein Array kann in Q# mithilfe von eckigen Klammern definiert werden, Bsp.: Int[][]. Der Typ eines Arrayliterals hängt von dem allgemeinen Basistyp aller Elemente im Array ab. \n",
    "\n",
    "Die Elemente eines Arrays können nicht mehr geändert werden, nachdem das Array erstellt wurde. Um die Elemente eines Arrays im Nachhinein anzupassen, muss das Array als veränderbarer Datentyp deklariert werden.\n",
    "\n",
    "Hinweis: Die Verkettung von Qubits (Array mit dem Typ Qubit) nennt man auch Qubit-Register. Außerdem sind alle Qubits die einem Array zugewiesen werden leer. Alle Qubits haben den Zustand |0〉. Bsp.: Ein Array mit 3 Qubits hätte den Zustand |000〉. Soll das Array aus einem bestimmten Zustandsfolgen bestehe z. B. |100〉, muss dieses manuell initialisiert werden. \n",
    "\n",
    "Ebenfalls ist es möglich, leere Arrays zu erstellen:"
   ]
  },
  {
   "cell_type": "code",
   "execution_count": 18,
   "metadata": {},
   "outputs": [
    {
     "data": {
      "application/json": "[\"Array\"]",
      "text/html": [
       "<ul><li>Array</li></ul>"
      ],
      "text/plain": [
       "Array"
      ]
     },
     "execution_count": 18,
     "metadata": {},
     "output_type": "execute_result"
    }
   ],
   "source": [
    "operation Array() : Unit {\n",
    "    // Array vom Typ int mit 13 Int Elementen\n",
    "    let valueInt = new Int[13];\n",
    "    // Array vom Typ Qubit (Auch Quanten-Register genannt) mit 5 Qubits -> Alle Qubits haben den Start-Zustand |0〉\n",
    "    let quantenRegister = new Qubit[5];\n",
    "    // Array vom Typ double mit 0 double Elementen\n",
    "    let valueLong = new Double[0];\n",
    "}"
   ]
  },
  {
   "cell_type": "markdown",
   "metadata": {},
   "source": [
    "### Tupel\n",
    "\n",
    "Das Tupel ist ein leistungsfähiges Konzept, das überall in Q# verwendet wird, um Werte zu einem einzigen Wert zusammenzufassen, wodurch es einfacher wird, sie weiterzugeben. Insbesondere kann man mithilfe der Tupel-Notation ausdrücken, dass jede Operation und jeder Aufruf genau eine Eingabe nimmt und genau eine Ausgabe zurückgibt.\n",
    "\n",
    "Tupel-Instanzen sind unveränderlich. Q# bietet keinen Mechanismus, um den Inhalt eines einmal erstellten Tupels zu ändern. Die Typen, die zur Konstruktion eines neuen Tupeltyps verwendet werden, können selbst Tupel sein, wie in (Int, (Qubit, Qubit)). Eine solche Schachtelung ist jedoch immer endlich, da Tupeltypen sich keinesfalls selbst enthalten können."
   ]
  },
  {
   "cell_type": "code",
   "execution_count": 19,
   "metadata": {},
   "outputs": [
    {
     "data": {
      "application/json": "[\"EingabeRueckgabe\",\"Test_8\"]",
      "text/html": [
       "<ul><li>EingabeRueckgabe</li><li>Test_8</li></ul>"
      ],
      "text/plain": [
       "EingabeRueckgabe, Test_8"
      ]
     },
     "execution_count": 19,
     "metadata": {},
     "output_type": "execute_result"
    }
   ],
   "source": [
    "// Diese Operation verlangt zwei Qubits und liefert ebenfalls zwei Result, Werte zurück\n",
    "// Result -> Gibt Variablen vom Wert let zurück\n",
    "operation EingabeRueckgabe(here : Qubit, there : Qubit) : (Result, Result) {\n",
    "    \n",
    "    // Wir Messen beide Qubits\n",
    "    let firstBit = M(there);\n",
    "    let secondBit = M(here);\n",
    "    \n",
    "    // Rückgabe der Werte firstBit und secondBit\n",
    "    return (firstBit, secondBit);\n",
    "}\n",
    "\n",
    "operation Test_8() : (Result, Result) {\n",
    "    using ((msg, target) = (Qubit(), Qubit())) {\n",
    "    \n",
    "        let r = EingabeRueckgabe(msg, target);\n",
    "         \n",
    "        return r;\n",
    "    }\n",
    "}"
   ]
  },
  {
   "cell_type": "code",
   "execution_count": 20,
   "metadata": {},
   "outputs": [
    {
     "data": {
      "application/json": "{\"@type\":\"@tuple\",\"Item1\":0,\"Item2\":0}",
      "text/plain": [
       "(Zero, Zero)"
      ]
     },
     "execution_count": 20,
     "metadata": {},
     "output_type": "execute_result"
    }
   ],
   "source": [
    "%simulate Test_8"
   ]
  },
  {
   "cell_type": "markdown",
   "metadata": {},
   "source": [
    "### Benutzerdefinierte Typen\n",
    "\n",
    "Q# besitzt ebenfalls die Möglichkeit, benutzerdefinierte Typen zu erstellen. Ähnlich einer Klasse aus klassischen Programmiersprachen. Einen benutzerdefinierten Datentyp erstellt man mit dem Schlüsselwort \"newtype\" gefolgt der Variablen Namen und der Zuweisung aller Datentypen (als Tupel), aus welcher der benutzerdefinierte Datentyp bestehen soll."
   ]
  },
  {
   "cell_type": "code",
   "execution_count": 21,
   "metadata": {},
   "outputs": [
    {
     "data": {
      "application/json": "[\"Auto\"]",
      "text/html": [
       "<ul><li>Auto</li></ul>"
      ],
      "text/plain": [
       "Auto"
      ]
     },
     "execution_count": 21,
     "metadata": {},
     "output_type": "execute_result"
    }
   ],
   "source": [
    "newtype Auto = (name: String, Double);"
   ]
  },
  {
   "cell_type": "markdown",
   "metadata": {},
   "source": [
    "Die Benennung eines Elements in einem benutzerdefinierten Typ bedeutet nicht, dass alle Elemente benannt werden müssen - jede Kombination aus benannten und unbenannten Elementen wird unterstützt. Darüber hinaus können auch innere Elemente benannt werden. Benannte Elemente haben den Vorteil, dass sie direkt über den Zugriffsoperator :: verwendet werden können."
   ]
  },
  {
   "cell_type": "code",
   "execution_count": 22,
   "metadata": {},
   "outputs": [
    {
     "data": {
      "application/json": "[\"Ausgabe\",\"Test_9\"]",
      "text/html": [
       "<ul><li>Ausgabe</li><li>Test_9</li></ul>"
      ],
      "text/plain": [
       "Ausgabe, Test_9"
      ]
     },
     "execution_count": 22,
     "metadata": {},
     "output_type": "execute_result"
    }
   ],
   "source": [
    "function Ausgabe (car : Auto) : String {\n",
    "    return car::name;\n",
    "}\n",
    "\n",
    "function Test_9() : Unit{\n",
    "    Message(Ausgabe(Auto(\"Meine kleine Ente\",2.0)));\n",
    "}"
   ]
  },
  {
   "cell_type": "code",
   "execution_count": 23,
   "metadata": {},
   "outputs": [
    {
     "name": "stdout",
     "output_type": "stream",
     "text": [
      "Meine kleine Ente\n"
     ]
    },
    {
     "data": {
      "application/json": "{\"@type\":\"tuple\"}",
      "text/plain": [
       "()"
      ]
     },
     "execution_count": 23,
     "metadata": {},
     "output_type": "execute_result"
    }
   ],
   "source": [
    "%simulate Test_9"
   ]
  },
  {
   "cell_type": "markdown",
   "metadata": {},
   "source": [
    "Um auf anonyme Elemente in einem Tupel zugreifen zu können, muss der anonyme Wert aus dem Tupel über dem Postfix-Operator \"!\" extrahiert werden. Mit dem \"Unpack\"-Operator \"!\" kann der in einem benutzerdefinierten Typ enthaltene Wert extrahiert werden. Der Datentyp eines solchen \"Unwrap\"-Ausdrucks wird automatisch ermittelt und ist der zugrunde liegende Typ des benutzerdefinierten Typs. Der Unwrap-Ausdruck \"reichweite\" (folgendes Beispiel) ist also vom Datentyp Double. Also dem Datentyp wie in dem benutzerdefinierten Typ Auto."
   ]
  },
  {
   "cell_type": "code",
   "execution_count": 24,
   "metadata": {},
   "outputs": [
    {
     "data": {
      "application/json": "[\"Ausgabe_2\",\"Test_10\"]",
      "text/html": [
       "<ul><li>Ausgabe_2</li><li>Test_10</li></ul>"
      ],
      "text/plain": [
       "Ausgabe_2, Test_10"
      ]
     },
     "execution_count": 24,
     "metadata": {},
     "output_type": "execute_result"
    }
   ],
   "source": [
    "function Ausgabe_2 (car : Auto) : Unit {\n",
    "    let (name, reichweite) = car!;\n",
    "    Message ($\"Autoname: {name}, Reichweite: {reichweite}\");\n",
    "}\n",
    "\n",
    "function Test_10() : Unit{\n",
    "    Ausgabe_2(Auto(\"Blauer Blitz\",2.0));\n",
    "}"
   ]
  },
  {
   "cell_type": "code",
   "execution_count": 25,
   "metadata": {},
   "outputs": [
    {
     "name": "stdout",
     "output_type": "stream",
     "text": [
      "Autoname: Blauer Blitz, Reichweite: 2\n"
     ]
    },
    {
     "data": {
      "application/json": "{\"@type\":\"tuple\"}",
      "text/plain": [
       "()"
      ]
     },
     "execution_count": 25,
     "metadata": {},
     "output_type": "execute_result"
    }
   ],
   "source": [
    "%simulate Test_10"
   ]
  },
  {
   "cell_type": "markdown",
   "metadata": {},
   "source": [
    "## Control Flow <a id=\"controlflow\"></a>\n",
    "\n",
    "Um Q#-Code flexibel und einfach zu halten, gibt es ebenfalls die Möglichkeit, ähnlich wie bei klassischen Programmiersprachen, Code mittels Iterationen und Verzweigungen zu beeinflussen.\n",
    "\n",
    "Q#-Code kann auf drei verschiedene Arten beeinflusst werden:\n",
    "- if Statements\n",
    "- for \n",
    "- repeat-until\n",
    "\n",
    "Wichtig ist, dass Schleifen und if-Anweisungen nicht nur in Funktionen, sondern auch in Operationen und auf Qubits verwendet werden können, auch wenn diese automatisch generiert wird. Mittels z.B. adjoint vor einer for-Schleife kann die Richtung des Durchlauf umgedreht werden (hinten nach vorne).\n"
   ]
  },
  {
   "cell_type": "code",
   "execution_count": 26,
   "metadata": {},
   "outputs": [
    {
     "data": {
      "application/json": "[\"Counter\"]",
      "text/html": [
       "<ul><li>Counter</li></ul>"
      ],
      "text/plain": [
       "Counter"
      ]
     },
     "execution_count": 26,
     "metadata": {},
     "output_type": "execute_result"
    }
   ],
   "source": [
    "operation Counter() : Unit {\n",
    "\n",
    "    mutable gerade = 0;\n",
    "    let values = [-5,-1,3,4,5,6,7,8,54654]; \n",
    "    let valueLenght = Length(values);\n",
    "    \n",
    "    for(index in 0..valueLenght - 1){\n",
    "        Message($\"{index}: {values[index]}\");\n",
    "        \n",
    "        if(values[index]%2==0){\n",
    "            set gerade = gerade + 1;\n",
    "        }\n",
    "    }\n",
    "    \n",
    "    Message($\"Es gibt: {gerade} Gerade Zahlen im Array\");\n",
    "}"
   ]
  },
  {
   "cell_type": "code",
   "execution_count": 27,
   "metadata": {},
   "outputs": [
    {
     "name": "stdout",
     "output_type": "stream",
     "text": [
      "0: -5\n",
      "1: -1\n",
      "2: 3\n",
      "3: 4\n",
      "4: 5\n",
      "5: 6\n",
      "6: 7\n",
      "7: 8\n",
      "8: 54654\n",
      "Es gibt: 4 Gerade Zahlen im Array\n"
     ]
    },
    {
     "data": {
      "application/json": "{\"@type\":\"tuple\"}",
      "text/plain": [
       "()"
      ]
     },
     "execution_count": 27,
     "metadata": {},
     "output_type": "execute_result"
    }
   ],
   "source": [
    "%simulate Counter"
   ]
  },
  {
   "cell_type": "markdown",
   "metadata": {},
   "source": [
    "## Importierten von Bibliotheken\n",
    "\n",
    "### %package\n",
    "\n",
    "%package erlaubt das Laden von weiteren Q#-Bibliotheken in ein Programm. Dadurch werden alle in der heruntergeladenen Bibliothek definierten Q#-Operationen zur Verfügung gestellt. Bsp.: Um die Operationen aus der Q#-Quantenchemie-Bibliothek nutzen zu können, muss das Paket \"Microsoft.Quantum.Chemistry\" zunächst in das Programm geladen werden. [C4](#rc$)"
   ]
  },
  {
   "cell_type": "code",
   "execution_count": 28,
   "metadata": {},
   "outputs": [
    {
     "data": {
      "application/json": "[\"Microsoft.Quantum.Standard::0.10.1912.0501\",\"Microsoft.Quantum.Chemistry::0.10.1912.0501\"]",
      "text/html": [
       "<ul><li>Microsoft.Quantum.Standard::0.10.1912.0501</li><li>Microsoft.Quantum.Chemistry::0.10.1912.0501</li></ul>"
      ],
      "text/plain": [
       "Microsoft.Quantum.Standard::0.10.1912.0501, Microsoft.Quantum.Chemistry::0.10.1912.0501"
      ]
     },
     "execution_count": 28,
     "metadata": {},
     "output_type": "execute_result"
    }
   ],
   "source": [
    "%package Microsoft.Quantum.Chemistry"
   ]
  },
  {
   "cell_type": "markdown",
   "metadata": {},
   "source": [
    "### open\n",
    "\n",
    "Mit dem Befehl open, können dem Programm Operationen oder Funktionen aus den bekannten Bibliotheken (Python, Q#, Q#-Chemistry, ...) importiert bzw. bekannt gemacht werden. Im folgenden Beispiel soll die Funktion \"LittleEndian\" aus dem Package \"Microsoft.Quantum.Arithmetic\" genutzt werden. Ohne den open-Befehl sind die benötigten Methoden dem Programm nicht bekannt und das Kompilieren schlägt fehl. Mit dem Hinzufügen des Befehls erhält der Code zugriff auf den Umfang des Package \"Microsoft.Quantum.Arithmetic\" und kann auf die benötigten Operationen/Funktionen zugreifen. [C3](#rC3), [C4](#rc$)"
   ]
  },
  {
   "cell_type": "code",
   "execution_count": 29,
   "metadata": {},
   "outputs": [
    {
     "name": "stderr",
     "output_type": "stream",
     "text": [
      "C:/snippet_.qs(5,17): error QS5022: No identifier with the name \"LittleEndian\" exists.\n",
      "C:/snippet_.qs(6,17): error QS5022: No identifier with the name \"LittleEndian\" exists.\n",
      "C:/snippet_.qs(8,9): error QS5022: No identifier with the name \"ApplyXorInPlace\" exists.\n",
      "C:/snippet_.qs(9,9): error QS5022: No identifier with the name \"ApplyXorInPlace\" exists.\n"
     ]
    }
   ],
   "source": [
    "operation MyAdditionTest (xInt : Int, yInt : Int, n : Int) : Unit\n",
    "{\n",
    "    using ((xQubits, yQubits) = (Qubit[n], Qubit[n]))\n",
    "    {\n",
    "        let x = LittleEndian(xQubits); // define bit order\n",
    "        let y = LittleEndian(yQubits);\n",
    "        \n",
    "        ApplyXorInPlace(xInt, x); // initialize values\n",
    "        ApplyXorInPlace(yInt, y);\n",
    "              \n",
    "        // some Code (use the result)\n",
    "    }\n",
    "}"
   ]
  },
  {
   "cell_type": "code",
   "execution_count": 30,
   "metadata": {},
   "outputs": [
    {
     "data": {
      "application/json": "[\"MyAdditionTest\"]",
      "text/html": [
       "<ul><li>MyAdditionTest</li></ul>"
      ],
      "text/plain": [
       "MyAdditionTest"
      ]
     },
     "execution_count": 30,
     "metadata": {},
     "output_type": "execute_result"
    }
   ],
   "source": [
    "open Microsoft.Quantum.Arithmetic;\n",
    "\n",
    "operation MyAdditionTest (xInt : Int, yInt : Int, n : Int) : Unit\n",
    "{\n",
    "    using ((xQubits, yQubits) = (Qubit[n], Qubit[n]))\n",
    "    {\n",
    "        let x = LittleEndian(xQubits); // define bit order\n",
    "        let y = LittleEndian(yQubits);\n",
    "        \n",
    "        ApplyXorInPlace(xInt, x); // initialize values\n",
    "        ApplyXorInPlace(yInt, y);\n",
    "              \n",
    "        // some Code (use the result)\n",
    "    }\n",
    "}"
   ]
  },
  {
   "cell_type": "markdown",
   "metadata": {},
   "source": [
    "# Microsoft Qubits<a id=\"qubits\"></a>\n",
    "## Allocating<a id=\"allocating\"></a>\n",
    "\n",
    "Um Qubits in Q# nutzen zu können, muss man zunächst den durch QDK bereitgestellten Block \"using\" aufrufen. Darin wird ein Qubit erzeugt und einer Variable zugewiesen. Werden mehrere unterschiedliche Qubits benötigt (einzeln, kein Quanten-Register -> Array[Qubit]) können diese durch nutzen der Tupel-Notation erstellt werden. Q# Handabt es so, dass sich alle erzeugte Qubits im Startzustand |0⟩ befinden und am Ende des using-Block in diesen zurückgeführt werden müssen. Um einen anderen Startzustand einem Qubit zuweisen zu können, muss das Qubit nach dem initialisieren per X-Operation Manuel in den Zustand |1⟩ gebracht werden."
   ]
  },
  {
   "cell_type": "code",
   "execution_count": 31,
   "metadata": {},
   "outputs": [
    {
     "data": {
      "application/json": "[\"Allocating_1\"]",
      "text/html": [
       "<ul><li>Allocating_1</li></ul>"
      ],
      "text/plain": [
       "Allocating_1"
      ]
     },
     "execution_count": 31,
     "metadata": {},
     "output_type": "execute_result"
    }
   ],
   "source": [
    "operation Allocating_1() : Unit {\n",
    "    // Qubit erstellen\n",
    "    using(q = Qubit())  {\n",
    "        // Start-Zustand |0⟩\n",
    "        // Messen des Qubits\n",
    "        let r = M(q);\n",
    "        \n",
    "        // X-Operation\n",
    "        X(q);\n",
    "        \n",
    "        // Messen des veränderten Qubits\n",
    "        let r2 = M(q);\n",
    "        \n",
    "        // Löschen bzw. rückführen des Qubits in den Start-Zustand\n",
    "        Reset(q);\n",
    "        \n",
    "        // Ausgabe\n",
    "        Message($\"Start-Zustand: {r}; End-Zustand: {r2}\");\n",
    "    }\n",
    "}"
   ]
  },
  {
   "cell_type": "code",
   "execution_count": 32,
   "metadata": {},
   "outputs": [
    {
     "name": "stdout",
     "output_type": "stream",
     "text": [
      "Start-Zustand: Zero; End-Zustand: One\n"
     ]
    },
    {
     "data": {
      "application/json": "{\"@type\":\"tuple\"}",
      "text/plain": [
       "()"
      ]
     },
     "execution_count": 32,
     "metadata": {},
     "output_type": "execute_result"
    }
   ],
   "source": [
    "%simulate Allocating_1"
   ]
  },
  {
   "cell_type": "markdown",
   "metadata": {},
   "source": [
    "Um mehrere verschiedenen (einzelne) Qubits in einer Operation zu erzeugen, können diese einfach mittels Tulpen-Notation dem \"using\"-Block bekannt gemacht werden."
   ]
  },
  {
   "cell_type": "code",
   "execution_count": 33,
   "metadata": {},
   "outputs": [
    {
     "data": {
      "application/json": "[\"Allocating_2\"]",
      "text/html": [
       "<ul><li>Allocating_2</li></ul>"
      ],
      "text/plain": [
       "Allocating_2"
      ]
     },
     "execution_count": 33,
     "metadata": {},
     "output_type": "execute_result"
    }
   ],
   "source": [
    "operation Allocating_2() : Unit {\n",
    "    // Qubit erstellen\n",
    "    using((first, second, third)=(Qubit(), Qubit(), Qubit()))  {\n",
    "        // Alle Qubits haben den Start-Zustand |0⟩\n",
    "        // Es handelt sich hier um drei unterschiedliche Qubits, welche in drei unterschiedlichen Variablen gespeichert sind\n",
    "        // Also kein Quanten-Register.\n",
    "        \n",
    "        // Messen des Start-Zustands\n",
    "        let szf = M(first);\n",
    "        let szs = M(second);\n",
    "        let szt = M(third);\n",
    "        \n",
    "        // Anwendung der Hadamard-Transformation -> Qubits werden in Superposition gebracht. \n",
    "        // 50%ige Chance, |0〉 oder |1〉 zu sein.\n",
    "        H(first);\n",
    "        H(second);\n",
    "        H(third);\n",
    "        \n",
    "        // Messen des bearbeiten Zustand\n",
    "        let ezf = M(first);\n",
    "        let ezs = M(second);\n",
    "        let ezt = M(third);\n",
    "        \n",
    "        // Es ist nur möglich Quanten-Register per ResetAll zu löschen\n",
    "        Reset(first);\n",
    "        Reset(second);\n",
    "        Reset(third);\n",
    "        \n",
    "        // Ausgabe\n",
    "        Message(\"Erstes Qubit\");\n",
    "        Message($\"Start-Zustand: {szf}; End-Zustand: {ezf}\");\n",
    "        Message(\"\");\n",
    "        Message(\"Zweites Qubit\");\n",
    "        Message($\"Start-Zustand: {szs}; End-Zustand: {ezs}\");\n",
    "        Message(\"\");\n",
    "        Message(\"Drittes Qubit\");\n",
    "        Message($\"Start-Zustand: {szt}; End-Zustand: {ezt}\");\n",
    "        \n",
    "    }\n",
    "}"
   ]
  },
  {
   "cell_type": "code",
   "execution_count": 34,
   "metadata": {},
   "outputs": [
    {
     "name": "stdout",
     "output_type": "stream",
     "text": [
      "Erstes Qubit\n",
      "Start-Zustand: Zero; End-Zustand: One\n",
      "\n",
      "Zweites Qubit\n",
      "Start-Zustand: Zero; End-Zustand: Zero\n",
      "\n",
      "Drittes Qubit\n",
      "Start-Zustand: Zero; End-Zustand: Zero\n"
     ]
    },
    {
     "data": {
      "application/json": "{\"@type\":\"tuple\"}",
      "text/plain": [
       "()"
      ]
     },
     "execution_count": 34,
     "metadata": {},
     "output_type": "execute_result"
    }
   ],
   "source": [
    "%simulate Allocating_2"
   ]
  },
  {
   "cell_type": "markdown",
   "metadata": {},
   "source": [
    "### Quanten-Register\n",
    "\n",
    "Ebenfalls ist es möglich, ein Array mit dem Datentyp Qubit zu erstellen. Dies wird auch Quanten-Register genannt. Ein Quanten-Register ist also eine Verkettung von Quanten, um über die Zustände der einzelnen Qubits-Informationen zu versenden. Ein Quanten-Register erstellt man ähnlich einer normalen Qubit-Variable im \"using\"-Block. Auch hier ist wieder zu beachten, dass jedes Quanten-Element im Array den Startzustand |0〉 hat und manuell in einen gewünschten Zustand gebracht werden muss."
   ]
  },
  {
   "cell_type": "code",
   "execution_count": 35,
   "metadata": {},
   "outputs": [
    {
     "data": {
      "application/json": "[\"Allocating_3\",\"PrepareBitString\",\"readQubits\"]",
      "text/html": [
       "<ul><li>Allocating_3</li><li>PrepareBitString</li><li>readQubits</li></ul>"
      ],
      "text/plain": [
       "Allocating_3, PrepareBitString, readQubits"
      ]
     },
     "execution_count": 35,
     "metadata": {},
     "output_type": "execute_result"
    }
   ],
   "source": [
    "// Initialisiert ein Quanten Register\n",
    "operation PrepareBitString(bitstring : Bool[], register : Qubit[]) : Unit \n",
    "is Adj + Ctl {\n",
    "\n",
    "    let nQubits = Length(register);\n",
    "    for (idxQubit in 0..nQubits - 1) {\n",
    "        if (bitstring[idxQubit]) {\n",
    "            X(register[idxQubit]);\n",
    "        }\n",
    "    }\n",
    "}\n",
    "\n",
    "// Gibt alle Zustände der Qubits in einem Quanten-Register aus\n",
    "operation readQubits(register : Qubit[]) : Unit {\n",
    "    let nQubits = Length(register);\n",
    "    for (idxQubit in 0..nQubits - 1) {\n",
    "        let r = M(register[idxQubit]);\n",
    "        Message($\"{r}\");\n",
    "    }\n",
    "}\n",
    "\n",
    "operation Allocating_3() : Unit {\n",
    "\n",
    "    // Es werden mehrere Qubits (8 Stück) in einem Quanten-Register erzeugt. Jedes Qubit hat den Start-Zustand |0〉\n",
    "    using (register = Qubit[8]) {\n",
    "        // Zustand des Registers an diesem Zeitpunkt |00000000〉.\n",
    "        Message(\"Erste Messung, direkt nach dem Anlegen: \");\n",
    "        readQubits(register);\n",
    "        \n",
    "        // Manueller eingriff um Zustand des Quanten-Registers in die gewünschten Zustand zu bringen\n",
    "        PrepareBitString([true, true, false, false, true, false, false, true],register);\n",
    "        // Zustand des Registers an diesem Zeitpunkt |11001001〉.\n",
    "        Message(\"\");\n",
    "        Message(\"Zweite Messung, direkt nach dem Bearbeiten: \");\n",
    "        readQubits(register);\n",
    "        \n",
    "        \n",
    "        // Um mehere Qubits z.B. in einem Qubit-Register zu löschen, kann anstatt dem Befehl Reset, ResetAll genutzt werden\n",
    "        ResetAll(register);\n",
    "    }\n",
    "}"
   ]
  },
  {
   "cell_type": "code",
   "execution_count": 36,
   "metadata": {},
   "outputs": [
    {
     "name": "stdout",
     "output_type": "stream",
     "text": [
      "Erste Messung, direkt nach dem Anlegen: \n",
      "Zero\n",
      "Zero\n",
      "Zero\n",
      "Zero\n",
      "Zero\n",
      "Zero\n",
      "Zero\n",
      "Zero\n",
      "\n",
      "Zweite Messung, direkt nach dem Bearbeiten: \n",
      "One\n",
      "One\n",
      "Zero\n",
      "Zero\n",
      "One\n",
      "Zero\n",
      "Zero\n",
      "One\n"
     ]
    },
    {
     "data": {
      "application/json": "{\"@type\":\"tuple\"}",
      "text/plain": [
       "()"
      ]
     },
     "execution_count": 36,
     "metadata": {},
     "output_type": "execute_result"
    }
   ],
   "source": [
    "%simulate Allocating_3"
   ]
  },
  {
   "cell_type": "markdown",
   "metadata": {},
   "source": [
    "## Intrinsic Operations<a id=\"intrinsic\"></a>\n",
    "\n",
    "Nach der Zuweisung im \"using\"-Block kann ein Qubit an Funktionen und Operationen übergeben werden. Das ist jedoch alles, was Q#-Operationen/-Funktionen mit einem Qubit anstellen können. Q# verbietet es Funktionen durch seine Richtlinien von Haus aus Qubits zu ändern und Operationen sind nur in der Lage Qubits weiter zuleiten bzw. Code-Abläufe zu bündeln. Um auf Qubits irgendwelche Operationen anzuwenden, werden so genante intrinsic-Operationen benötigt. Intrinsic-Operationen, wie z.B. die Hardamard-Transformation oder das Messen des Zustandes eines Qubits, sind Methoden die durch Q# bereitgestellt werden und diese können nicht geändert/überschrieben werden.\n",
    "\n",
    "Folgend einige wichtige Q# Intrinsic Operationen:"
   ]
  },
  {
   "cell_type": "markdown",
   "metadata": {},
   "source": [
    "## M-Operation\n",
    "\n",
    "Führt eine Messung eines einzelnen Qubits in der Pauli Z-Basis durch. Das Ergebnis der Ausgabe ist durch die Verteilung \n",
    "\n",
    "****\n",
    "<span style=\"background-color: #f0f0f0\">operation M (qubit : Qubit) : Result</span>\n",
    "\n",
    "**qubit : Qubit** -> Qubit, welches gemessen werden soll\n",
    "\n",
    "****"
   ]
  },
  {
   "cell_type": "code",
   "execution_count": 37,
   "metadata": {},
   "outputs": [
    {
     "data": {
      "application/json": "[\"intrinsic_1\"]",
      "text/html": [
       "<ul><li>intrinsic_1</li></ul>"
      ],
      "text/plain": [
       "intrinsic_1"
      ]
     },
     "execution_count": 37,
     "metadata": {},
     "output_type": "execute_result"
    }
   ],
   "source": [
    "operation intrinsic_1() : Unit{\n",
    "    using(q = Qubit()){\n",
    "        \n",
    "        // Messung des Zustandes des Qubits q\n",
    "        // Messung wird in der Variable mq1 gespeichert\n",
    "        let mq1 = M(q);\n",
    "\n",
    "        // Reset\n",
    "        Reset(q);\n",
    "\n",
    "        // Ausgabe\n",
    "        Message($\"Zustand: {mq1}\");\n",
    "    }\n",
    "}"
   ]
  },
  {
   "cell_type": "code",
   "execution_count": 38,
   "metadata": {},
   "outputs": [
    {
     "name": "stdout",
     "output_type": "stream",
     "text": [
      "Zustand: Zero\n"
     ]
    },
    {
     "data": {
      "application/json": "{\"@type\":\"tuple\"}",
      "text/plain": [
       "()"
      ]
     },
     "execution_count": 38,
     "metadata": {},
     "output_type": "execute_result"
    }
   ],
   "source": [
    "%simulate intrinsic_1"
   ]
  },
  {
   "cell_type": "markdown",
   "metadata": {},
   "source": [
    "### Hadamard-Transformation\n",
    "\n",
    "Wendet die Hadamard-Transformation auf ein einzelnes Qubit an. Das Qubit wird per Hadamard-Transformation eine Superposition gebracht. 50%ige Chance, |0〉 oder |1〉 zu sein.\n",
    "\n",
    "****\n",
    "<span style=\"background-color: #f0f0f0\">operation H (qubit : Qubit) : Unit</span>\n",
    "\n",
    "**qubit : Qubit** -> Qubit, an dem das Gatter angewandt werden soll\n",
    "\n",
    "****\n",
    "\n",
    "\n",
    "$$\n",
    "\\mathbf{H}\n",
    ":=\n",
    "\\frac{\\mathbf{1}}{\\sqrt{\\mathbf{2}}}\n",
    "\\begin{bmatrix} \n",
    "1 & 1 \\\\ \n",
    "1 & -1\n",
    "\\end{bmatrix}\n",
    "$$\n",
    "\n",
    "![Hadamar](_image/Hadamar.png) [E9](#rE9)"
   ]
  },
  {
   "cell_type": "code",
   "execution_count": 39,
   "metadata": {},
   "outputs": [
    {
     "data": {
      "application/json": "[\"intrinsic_2\"]",
      "text/html": [
       "<ul><li>intrinsic_2</li></ul>"
      ],
      "text/plain": [
       "intrinsic_2"
      ]
     },
     "execution_count": 39,
     "metadata": {},
     "output_type": "execute_result"
    }
   ],
   "source": [
    "operation intrinsic_2() : Unit{\n",
    "    using(q = Qubit()){\n",
    "        \n",
    "        // Erste Messung\n",
    "        // Beide Qubits sollten den Zustand |0〉 haben\n",
    "        let mq1 = M(q);\n",
    "\n",
    "        // Zweite Messung\n",
    "        H(q);     \n",
    "        let mq2 = M(q);\n",
    "\n",
    "        // Dritte Messung\n",
    "        H(q);\n",
    "        let mq3 = M(q);\n",
    "        \n",
    "        // Vierte Messung\n",
    "        H(q);\n",
    "        let mq4 = M(q);\n",
    "        \n",
    "        // Reset\n",
    "        Reset(q);\n",
    "\n",
    "        // Ausgabe\n",
    "        Message(\"Erste Messung:\");\n",
    "        Message($\"{mq1}\");\n",
    "        Message(\"Zweite Messung:\");\n",
    "        Message($\"{mq2}\");\n",
    "        Message(\"Dritte Messung:\");\n",
    "        Message($\"{mq3}\");\n",
    "        Message(\"Vierte Messung:\");\n",
    "        Message($\"{mq4}\");\n",
    "    }\n",
    "}"
   ]
  },
  {
   "cell_type": "code",
   "execution_count": 40,
   "metadata": {
    "scrolled": true
   },
   "outputs": [
    {
     "name": "stdout",
     "output_type": "stream",
     "text": [
      "Erste Messung:\n",
      "Zero\n",
      "Zweite Messung:\n",
      "One\n",
      "Dritte Messung:\n",
      "One\n",
      "Vierte Messung:\n",
      "One\n"
     ]
    },
    {
     "data": {
      "application/json": "{\"@type\":\"tuple\"}",
      "text/plain": [
       "()"
      ]
     },
     "execution_count": 40,
     "metadata": {},
     "output_type": "execute_result"
    }
   ],
   "source": [
    "%simulate intrinsic_2"
   ]
  },
  {
   "cell_type": "markdown",
   "metadata": {},
   "source": [
    "### X-Operation\n",
    "\n",
    "Wendet das Pauli-X Gate auf ein Qubits an.\n",
    "\n",
    "****\n",
    "<span style=\"background-color: #f0f0f0\">operation X (qubit : Qubit) : Unit</span>\n",
    "\n",
    "**qubit : Qubit** -> Das Qubit, auf welches die X-Operation angewendet werden soll.\n",
    "\n",
    "****\n",
    "\n",
    "\n",
    "$$\n",
    "\\mathbf{σx}\n",
    ":=\n",
    "\\begin{bmatrix} \n",
    "1 & 0 \\\\ \n",
    "0 & 1\n",
    "\\end{bmatrix}\n",
    "$$\n",
    "\n",
    "\n",
    "![PauliX](_image/PauliX.png) [E9](#rE9)"
   ]
  },
  {
   "cell_type": "code",
   "execution_count": 41,
   "metadata": {},
   "outputs": [
    {
     "data": {
      "application/json": "[\"intrinsic_3\"]",
      "text/html": [
       "<ul><li>intrinsic_3</li></ul>"
      ],
      "text/plain": [
       "intrinsic_3"
      ]
     },
     "execution_count": 41,
     "metadata": {},
     "output_type": "execute_result"
    }
   ],
   "source": [
    "operation intrinsic_3() : Unit{\n",
    "    using(q = Qubit()){\n",
    "        \n",
    "        // Erste Messung\n",
    "        // Beide Qubits sollten den Zustand |0〉 haben\n",
    "        let mq1 = M(q);\n",
    "\n",
    "        // Zweite Messung\n",
    "        X(q);     \n",
    "        let mq2 = M(q);\n",
    "\n",
    "        // Dritte Messung\n",
    "        X(q);\n",
    "        let mq3 = M(q);\n",
    "        \n",
    "        // Vierte Messung\n",
    "        X(q);\n",
    "        let mq4 = M(q);\n",
    "        \n",
    "        // Reset\n",
    "        Reset(q);\n",
    "\n",
    "        // Ausgabe\n",
    "        Message(\"Erste Messung:\");\n",
    "        Message($\"{mq1}\");\n",
    "        Message(\"Zweite Messung:\");\n",
    "        Message($\"{mq2}\");\n",
    "        Message(\"Dritte Messung:\");\n",
    "        Message($\"{mq3}\");\n",
    "        Message(\"Vierte Messung:\");\n",
    "        Message($\"{mq4}\");\n",
    "    }\n",
    "}"
   ]
  },
  {
   "cell_type": "code",
   "execution_count": 42,
   "metadata": {},
   "outputs": [
    {
     "name": "stdout",
     "output_type": "stream",
     "text": [
      "Erste Messung:\n",
      "Zero\n",
      "Zweite Messung:\n",
      "One\n",
      "Dritte Messung:\n",
      "Zero\n",
      "Vierte Messung:\n",
      "One\n"
     ]
    },
    {
     "data": {
      "application/json": "{\"@type\":\"tuple\"}",
      "text/plain": [
       "()"
      ]
     },
     "execution_count": 42,
     "metadata": {},
     "output_type": "execute_result"
    }
   ],
   "source": [
    "%simulate intrinsic_3"
   ]
  },
  {
   "cell_type": "markdown",
   "metadata": {},
   "source": [
    "### Y-Operation\n",
    "\n",
    "Wendet das Pauli-Y Gate auf ein Qubits an.\n",
    "\n",
    "****\n",
    "<span style=\"background-color: #f0f0f0\">operation Y (qubit : Qubit) : Unit</span>\n",
    "\n",
    "**qubit : Qubit** -> Das Qubit, auf welches die Y-Operation angewendet werden soll.\n",
    "\n",
    "****\n",
    "\n",
    "\n",
    "$$\n",
    "\\mathbf{σy}\n",
    ":=\n",
    "\\begin{bmatrix} \n",
    "0 & -i \\\\ \n",
    "i & 0\n",
    "\\end{bmatrix}\n",
    "$$\n",
    "\n",
    "![PauliY](_image/PauliY.png) [E9](#rE9)"
   ]
  },
  {
   "cell_type": "code",
   "execution_count": 43,
   "metadata": {},
   "outputs": [
    {
     "data": {
      "application/json": "[\"intrinsic_4\"]",
      "text/html": [
       "<ul><li>intrinsic_4</li></ul>"
      ],
      "text/plain": [
       "intrinsic_4"
      ]
     },
     "execution_count": 43,
     "metadata": {},
     "output_type": "execute_result"
    }
   ],
   "source": [
    "operation intrinsic_4() : Unit{\n",
    "    using(q = Qubit()){\n",
    "        \n",
    "        // Erste Messung\n",
    "        // Beide Qubits sollten den Zustand |0〉 haben\n",
    "        let mq1 = M(q);\n",
    "\n",
    "        // Zweite Messung\n",
    "        Y(q);     \n",
    "        let mq2 = M(q);\n",
    "\n",
    "        // Dritte Messung\n",
    "        Y(q);\n",
    "        let mq3 = M(q);\n",
    "        \n",
    "        // Vierte Messung\n",
    "        Y(q);\n",
    "        let mq4 = M(q);\n",
    "        \n",
    "        // Reset\n",
    "        Reset(q);\n",
    "\n",
    "        // Ausgabe\n",
    "        Message(\"Erste Messung:\");\n",
    "        Message($\"{mq1}\");\n",
    "        Message(\"Zweite Messung:\");\n",
    "        Message($\"{mq2}\");\n",
    "        Message(\"Dritte Messung:\");\n",
    "        Message($\"{mq3}\");\n",
    "        Message(\"Vierte Messung:\");\n",
    "        Message($\"{mq4}\");\n",
    "    }\n",
    "}"
   ]
  },
  {
   "cell_type": "code",
   "execution_count": 44,
   "metadata": {},
   "outputs": [
    {
     "name": "stdout",
     "output_type": "stream",
     "text": [
      "Erste Messung:\n",
      "Zero\n",
      "Zweite Messung:\n",
      "One\n",
      "Dritte Messung:\n",
      "Zero\n",
      "Vierte Messung:\n",
      "One\n"
     ]
    },
    {
     "data": {
      "application/json": "{\"@type\":\"tuple\"}",
      "text/plain": [
       "()"
      ]
     },
     "execution_count": 44,
     "metadata": {},
     "output_type": "execute_result"
    }
   ],
   "source": [
    "%simulate intrinsic_4"
   ]
  },
  {
   "cell_type": "markdown",
   "metadata": {},
   "source": [
    "### Z-Operation\n",
    "\n",
    "Wendet das Pauli-Z Gate auf ein Qubits an.\n",
    "\n",
    "****\n",
    "<span style=\"background-color: #f0f0f0\">operation Z (qubit : Qubit) : Unit</span>\n",
    "\n",
    "**qubit : Qubit** -> Das Qubit, auf welches die Z-Operation angewendet werden soll.\n",
    "\n",
    "****\n",
    "\n",
    "\n",
    "$$\n",
    "\\mathbf{σz}\n",
    ":=\n",
    "\\begin{bmatrix} \n",
    "1 & 0 \\\\ \n",
    "0 & -1\n",
    "\\end{bmatrix}\n",
    "$$\n",
    "\n",
    "![PauliZ](_image/PauliZ.png) [E9](#rE9)"
   ]
  },
  {
   "cell_type": "code",
   "execution_count": 45,
   "metadata": {},
   "outputs": [
    {
     "data": {
      "application/json": "[\"intrinsic_5\"]",
      "text/html": [
       "<ul><li>intrinsic_5</li></ul>"
      ],
      "text/plain": [
       "intrinsic_5"
      ]
     },
     "execution_count": 45,
     "metadata": {},
     "output_type": "execute_result"
    }
   ],
   "source": [
    "operation intrinsic_5() : Unit{\n",
    "    using(q = Qubit()){\n",
    "        \n",
    "        // Erste Messung\n",
    "        // Beide Qubits sollten den Zustand |0〉 haben\n",
    "        let mq1 = M(q);\n",
    "\n",
    "        // Zweite Messung\n",
    "        Z(q);     \n",
    "        let mq2 = M(q);\n",
    "\n",
    "        // Ändern des Zustands durch eine X-Operation\n",
    "        X(q);\n",
    "        \n",
    "        // Dritte Messung\n",
    "        Z(q);\n",
    "        let mq3 = M(q);\n",
    "        \n",
    "        // Vierte Messung\n",
    "        Z(q);\n",
    "        let mq4 = M(q);\n",
    "        \n",
    "        // Reset\n",
    "        Reset(q);\n",
    "\n",
    "        // Ausgabe\n",
    "        Message(\"Erste Messung:\");\n",
    "        Message($\"{mq1}\");\n",
    "        Message(\"Zweite Messung:\");\n",
    "        Message($\"{mq2}\");\n",
    "        Message(\"Dritte Messung:\");\n",
    "        Message($\"{mq3}\");\n",
    "        Message(\"Vierte Messung:\");\n",
    "        Message($\"{mq4}\");\n",
    "    }\n",
    "}"
   ]
  },
  {
   "cell_type": "code",
   "execution_count": 46,
   "metadata": {},
   "outputs": [
    {
     "name": "stdout",
     "output_type": "stream",
     "text": [
      "Erste Messung:\n",
      "Zero\n",
      "Zweite Messung:\n",
      "Zero\n",
      "Dritte Messung:\n",
      "One\n",
      "Vierte Messung:\n",
      "One\n"
     ]
    },
    {
     "data": {
      "application/json": "{\"@type\":\"tuple\"}",
      "text/plain": [
       "()"
      ]
     },
     "execution_count": 46,
     "metadata": {},
     "output_type": "execute_result"
    }
   ],
   "source": [
    "%simulate intrinsic_5"
   ]
  },
  {
   "cell_type": "markdown",
   "metadata": {},
   "source": [
    "### CNOT-Operation\n",
    "\n",
    "Wendet das Controlled NOT (CNOT) Gate auf ein Paar von Qubits an. Bedeutet: Wenn das Kontroll-Qubit den Zustand |1〉 besitzt wird der Zustand des Target-Qubit getauscht (|0〉 -> |1〉; |1〉 -> |0〉). Ist der Zustand des Kontroll-Qubits jedoch |0〉, ändert sich der Zustand des Target-Qubits nicht.\n",
    "\n",
    "****\n",
    "<span style=\"background-color: #f0f0f0\">operation CNOT (control : Qubit, target : Qubit) : Unit</span>\n",
    "\n",
    "**control : Qubit** -> Kontroll-Qubit für CNOT\n",
    "\n",
    "**target : Qubit** -> Target-Qubit für CNOT\n",
    "****\n",
    "\n",
    "\n",
    "$$\n",
    "\\mathbf{CNOT}\n",
    ":=\n",
    "\\begin{bmatrix} \n",
    "1 & 0 & 0 & 0 \\\\ \n",
    "0 & 1 & 0 & 0 \\\\\n",
    "0 & 0 & 0 & 1 \\\\\n",
    "0 & 0 & 1 & 0 \\\\\n",
    "\\end{bmatrix}\n",
    "$$"
   ]
  },
  {
   "cell_type": "code",
   "execution_count": 47,
   "metadata": {},
   "outputs": [
    {
     "data": {
      "application/json": "[\"intrinsic_6\"]",
      "text/html": [
       "<ul><li>intrinsic_6</li></ul>"
      ],
      "text/plain": [
       "intrinsic_6"
      ]
     },
     "execution_count": 47,
     "metadata": {},
     "output_type": "execute_result"
    }
   ],
   "source": [
    "operation intrinsic_6() : Unit{\n",
    "    using((q, p) =(Qubit(), Qubit())){\n",
    "        \n",
    "        // \n",
    "        CNOT(q, p);\n",
    "       \n",
    "        // Erste Messung\n",
    "        // Beide Qubits sollten den Zustand |0〉 haben\n",
    "        let mq1 = M(q);\n",
    "        let mp1 = M(p);\n",
    "       \n",
    "       \n",
    "        X(q);\n",
    "        X(p);\n",
    "        CNOT(q, p);\n",
    "       \n",
    "        // Zweite Messung nachdem das Kontroll-Bit 1 ist\n",
    "        // Das zweite Qubit (p) ist ebenfalls im Zustand 1 gewesen und wird weil der Zustand des Kontroll-Qubits 1 ist \n",
    "        // geändert. Dies bedetuet das der Zustand des Target-Qubits beim messen 0 sein sollte\n",
    "        let mq2 = M(q);\n",
    "        let mp2 = M(p);\n",
    "        \n",
    "        // \n",
    "        Reset(q);\n",
    "        Reset(p);\n",
    "        \n",
    "        // Ausgabe\n",
    "        Message(\"Erste Messung:\");\n",
    "        Message($\"{mq1}; {mp1}\");\n",
    "        Message(\"Zweite Messung:\");\n",
    "        Message($\"{mq2}; {mp2}\");\n",
    "    }\n",
    "}"
   ]
  },
  {
   "cell_type": "code",
   "execution_count": 48,
   "metadata": {},
   "outputs": [
    {
     "name": "stdout",
     "output_type": "stream",
     "text": [
      "Erste Messung:\n",
      "Zero; Zero\n",
      "Zweite Messung:\n",
      "One; Zero\n"
     ]
    },
    {
     "data": {
      "application/json": "{\"@type\":\"tuple\"}",
      "text/plain": [
       "()"
      ]
     },
     "execution_count": 48,
     "metadata": {},
     "output_type": "execute_result"
    }
   ],
   "source": [
    "%simulate intrinsic_6"
   ]
  },
  {
   "cell_type": "markdown",
   "metadata": {},
   "source": [
    "### SWAP-Operation\n",
    "\n",
    "Tauscht zwei Qubits miteinadner aus.\n",
    "\n",
    "****\n",
    "<span style=\"background-color: #f0f0f0\">operation SWAP (qubit1 : Qubit, qubit2 : Qubit) : Unit</span>\n",
    "\n",
    "**qubit1 : Qubit** -> Erstes zu tauschende Qubit\n",
    "\n",
    "**qubit2 : Qubit** -> Zweites Qubit, welches mit dem ersten Qubit getauscht werden soll\n",
    "****\n",
    "\n",
    "\n",
    "$$\n",
    "\\mathbf{SWAP}\n",
    ":=\n",
    "\\begin{bmatrix} \n",
    "1 & 0 & 0 & 0 \\\\ \n",
    "0 & 0 & 1 & 0 \\\\\n",
    "0 & 1 & 0 & 0 \\\\\n",
    "0 & 0 & 0 & 1 \\\\\n",
    "\\end{bmatrix}\n",
    "$$"
   ]
  },
  {
   "cell_type": "code",
   "execution_count": 49,
   "metadata": {},
   "outputs": [
    {
     "data": {
      "application/json": "[\"intrinsic_7\"]",
      "text/html": [
       "<ul><li>intrinsic_7</li></ul>"
      ],
      "text/plain": [
       "intrinsic_7"
      ]
     },
     "execution_count": 49,
     "metadata": {},
     "output_type": "execute_result"
    }
   ],
   "source": [
    "operation intrinsic_7() : Unit{\n",
    "    using((q, p) =(Qubit(), Qubit())){\n",
    "        \n",
    "        // Qubit q wird in den Zustand |1〉 gebracht\n",
    "        // Qubit p wird im Zustand |0〉 bleiben\n",
    "        X(q);\n",
    "    \n",
    "        // Erste Messung\n",
    "        let mq1 = M(q);\n",
    "        let mp1 = M(p);\n",
    "       \n",
    "        // Tausch der Qubits\n",
    "        SWAP(q, p);\n",
    "       \n",
    "        // Zweite Messung um zu überprüfen ob der Tausch der Qubits funktioniert hat\n",
    "        // q müsste nach dem Tausch im Zustand |0〉 sein\n",
    "        // p müsste nach dem Tausch im Zustand |1〉 sein\n",
    "        let mq2 = M(q);\n",
    "        let mp2 = M(p);\n",
    "        \n",
    "        // \n",
    "        Reset(q);\n",
    "        Reset(p);\n",
    "        \n",
    "        // Ausgabe\n",
    "        Message(\"Erste Messung:\");\n",
    "        Message($\"{mq1}; {mp1}\");\n",
    "        Message(\"Zweite Messung:\");\n",
    "        Message($\"{mq2}; {mp2}\");\n",
    "    }\n",
    "}"
   ]
  },
  {
   "cell_type": "code",
   "execution_count": 50,
   "metadata": {},
   "outputs": [
    {
     "name": "stdout",
     "output_type": "stream",
     "text": [
      "Erste Messung:\n",
      "One; Zero\n",
      "Zweite Messung:\n",
      "Zero; One\n"
     ]
    },
    {
     "data": {
      "application/json": "{\"@type\":\"tuple\"}",
      "text/plain": [
       "()"
      ]
     },
     "execution_count": 50,
     "metadata": {},
     "output_type": "execute_result"
    }
   ],
   "source": [
    "%simulate intrinsic_7"
   ]
  },
  {
   "cell_type": "markdown",
   "metadata": {},
   "source": [
    "## Reset<a id=\"reset\"></a>\n",
    "\n",
    "Die Reset- bzw. ResetAll-Operation ist eine ebenfalls sehr wichtige Operationen in Q#. Diese wird jedoch oft vernachlässigt, was zu Fehlern führen kann. \n",
    "\n",
    "<blockquote> \n",
    "Target machines expect that qubits are in the |0⟩ state immediately before deallocation, so that they can be reused and offered to other using blocks for allocation. Whenever possible, use unitary operations to return any allocated qubits to |0⟩. If need be, the Reset operation can be used to measure a qubit instead, and to use that measurement result to ensure that the measured qubit is returned to |0⟩. Such a measurement will destroy any entanglement with the remaining qubits and can thus impact the computation. \n",
    "</blockquote> \n",
    "\n",
    "[E7](#rE7)"
   ]
  },
  {
   "cell_type": "markdown",
   "metadata": {},
   "source": [
    "Heutige Quanten-Programme sind durch die Anzahl ihrer Qubits beschränkt - gleichgültig ob Simulation oder echte Qubits. Um Qubits über dieses Limit hinaus nutzten zu können, ist es möglich ungenutzte Qubits in den Startzustand zurückzubringen. Alle Qubits müssen am Ende des Programms wieder in den Startzustand gebracht werden. Dies ist eine Sicherheitsmaßnahme, da sonst nicht garantiert werden kann, dass alle Qubits nicht mehr verschränkt sind. Verschränkte Qubits könnten später andere Teile im Programm beeinflussen. Zu beachten ist an dieser Stelle, dass die Verwendung von Reset oder ResetAll vor der Freigabe der Qubits keine harte Anforderung besitzt, jedoch den einen oder anderen Fehler verhindert.\n",
    "\n",
    "Das automatische Zurücksetzen von Qubits in den Startzustand am Ende einer Operation, ist ebenfalls \"gefährlich\". Es funktioniert nur, wenn das einzelne Qubit nicht mit einem andere Qubit verschränkt ist. In diesem Fall kann das verschränkte Qubit, welches nicht freigegeben werden kann, das Qubit ebenfalls beeinflussen.\n",
    "\n",
    "Der Fehler bleibt solange unbemerkt wie zufälligerweise alle Qubits am Ende den Endzustand |0⟩ besitzen. Da dies auch der Startzustand ist und alle Qubits am Ende ihrer Lebensdauer in den Startzustand überführt werden sollten. Der Fehler tritt erst auf, wenn der Endzustand nicht dem Startzustand entspricht - in diesem Fall |1⟩. Daher sollte, wenn möglich spätestens am Ende eines Q#-Programmes alle erzeugten Qubits freigegeben werden."
   ]
  },
  {
   "cell_type": "code",
   "execution_count": 51,
   "metadata": {},
   "outputs": [
    {
     "data": {
      "application/json": "[\"fehlerBeispiel_1\"]",
      "text/html": [
       "<ul><li>fehlerBeispiel_1</li></ul>"
      ],
      "text/plain": [
       "fehlerBeispiel_1"
      ]
     },
     "execution_count": 51,
     "metadata": {},
     "output_type": "execute_result"
    }
   ],
   "source": [
    "// Hier passiert nichts, da Zufällig der End-Zustand des Qubits dem Start-Zustand entspricht\n",
    "operation fehlerBeispiel_1() : Unit {\n",
    "    using((q,register) = (Qubit(),Qubit[5])){\n",
    "    \n",
    "        // Qubit wird in einen anderen Zustand (|1⟩) gebracht\n",
    "        X(q);\n",
    "        \n",
    "        // Messen des Qubits\n",
    "        let r = M(q);\n",
    "        \n",
    "        // Zurücksetzten des Qubits in den Start-Zustand |0⟩\n",
    "        Reset(q);\n",
    "        // Zurücksetzten des Quanten-Register in den Start- Zustand |00000⟩\n",
    "        ResetAll(register);\n",
    "        \n",
    "        // Messen des Qubits\n",
    "        let r2 = M(q);\n",
    "\n",
    "        Message(\"Erste Messung:\");\n",
    "        Message($\"{r}\");\n",
    "        Message(\"Zweite Messung:\");\n",
    "        Message($\"{r2}\");\n",
    "    }\n",
    "}"
   ]
  },
  {
   "cell_type": "code",
   "execution_count": 52,
   "metadata": {},
   "outputs": [
    {
     "name": "stdout",
     "output_type": "stream",
     "text": [
      "Erste Messung:\n",
      "One\n",
      "Zweite Messung:\n",
      "Zero\n"
     ]
    },
    {
     "data": {
      "application/json": "{\"@type\":\"tuple\"}",
      "text/plain": [
       "()"
      ]
     },
     "execution_count": 52,
     "metadata": {},
     "output_type": "execute_result"
    }
   ],
   "source": [
    "%simulate fehlerBeispiel_1"
   ]
  },
  {
   "cell_type": "code",
   "execution_count": 53,
   "metadata": {},
   "outputs": [
    {
     "data": {
      "application/json": "[\"fehlerBeispiel_2\"]",
      "text/html": [
       "<ul><li>fehlerBeispiel_2</li></ul>"
      ],
      "text/plain": [
       "fehlerBeispiel_2"
      ]
     },
     "execution_count": 53,
     "metadata": {},
     "output_type": "execute_result"
    }
   ],
   "source": [
    "// Diese Operation wirft einen Fehler, da der End-Zustand des Qubits nicht dem Start-Zustand entspricht\n",
    "operation fehlerBeispiel_2() : Result{\n",
    "    using(q = Qubit()){\n",
    "        X(q);\n",
    "        let r = M(q);\n",
    "        \n",
    "        // Qubit wurde nicht in seinen Start-Zustand gebracht\n",
    "        // Und kann deswegen nicht mehr genutzt werden\n",
    "        return r;\n",
    "    }\n",
    "}"
   ]
  },
  {
   "cell_type": "code",
   "execution_count": 54,
   "metadata": {
    "scrolled": true
   },
   "outputs": [
    {
     "name": "stdout",
     "output_type": "stream",
     "text": [
      "Unhandled exception. Microsoft.Quantum.Simulation.Simulators.Exceptions.ReleasedQubitsAreNotInZeroState: Released qubits are not in zero state.\n"
     ]
    },
    {
     "name": "stderr",
     "output_type": "stream",
     "text": [
      "Value cannot be null. (Parameter 'key')\n"
     ]
    }
   ],
   "source": [
    "%simulate fehlerBeispiel_2"
   ]
  },
  {
   "cell_type": "markdown",
   "metadata": {},
   "source": [
    "## Teleportation<a id=\"teleportation\"></a>\n",
    "\n",
    "Oftmals können Probleme mit einzelnen Qubits nicht gelöst werden. An diesen Stellen wird oft die Verschränkung von mehreren Qubits benutzt, um Probleme zu lösen die mit einem einzelnen Qubit nicht gelöst werden können. Bei der Verschränkung handelt es sich um ein Quanten-Phänomen, bei dem zwei Teilchen miteinander verknüpft werden, sodass sich eine Änderung an einem Qubit bei einem anderen Qubit bemerkbar macht - egal, wie weit beide Qubits voneinander entfernt sind.\n",
    "\n",
    "Die Quantenteleportation bietet eine Möglichkeit, einen Quanten-Zustand von einem Ort zu einem anderen zu bewegen, ohne physikalische Teilchen mitbewegen zu müssen. Dies geschieht mithilfe der zuvor gemeinsam genutzten Quantenverschränkung zwischen dem sendenden und dem empfangenden Ort.\n",
    "\n",
    "\n",
    "![Quantum Teleportation](_image/quantum_teleportation.png) [O5](#rO5)\n",
    "\n",
    "Siehe dazu das folgende Code-Beispiel: [C1](#rC1), [C2](#rC2)"
   ]
  },
  {
   "cell_type": "code",
   "execution_count": 55,
   "metadata": {},
   "outputs": [
    {
     "name": "stdout",
     "output_type": "stream",
     "text": [
      "C:/snippet_.qs(1,90): warning QS6003: The namespace is already open.\n",
      "C:/snippet_.qs(2,6): warning QS6003: The namespace is already open.\n"
     ]
    },
    {
     "data": {
      "application/json": "[\"IsMinus\",\"IsPlus\",\"PrepareRandomMessage\",\"SetToMinus\",\"SetToPlus\",\"Teleport\",\"TeleportClassicalMessage\",\"TeleportRandomMessage\"]",
      "text/html": [
       "<ul><li>IsMinus</li><li>IsPlus</li><li>PrepareRandomMessage</li><li>SetToMinus</li><li>SetToPlus</li><li>Teleport</li><li>TeleportClassicalMessage</li><li>TeleportRandomMessage</li></ul>"
      ],
      "text/plain": [
       "IsMinus, IsPlus, PrepareRandomMessage, SetToMinus, SetToPlus, Teleport, TeleportClassicalMessage, TeleportRandomMessage"
      ]
     },
     "execution_count": 55,
     "metadata": {},
     "output_type": "execute_result"
    }
   ],
   "source": [
    "open Microsoft.Quantum.Intrinsic;\n",
    "open Microsoft.Quantum.Canon;\n",
    "open Microsoft.Quantum.Measurement;\n",
    "open Microsoft.Quantum.Math;\n",
    "\n",
    "/// Sends the state of one qubit to a target qubit by using\n",
    "/// teleportation.\n",
    "///\n",
    "/// Notice that after calling Teleport, the state of `msg` is\n",
    "/// collapsed.\n",
    "///\n",
    "/// # Input\n",
    "/// ## msg\n",
    "/// A qubit whose state we wish to send.\n",
    "/// ## target\n",
    "/// A qubit initially in the |0〉 state that we want to send\n",
    "/// the state of msg to.\n",
    "operation Teleport (msg : Qubit, target : Qubit) : Unit {\n",
    "    using (register = Qubit()) {\n",
    "        // Create some entanglement that we can use to send our message.\n",
    "        H(register);\n",
    "        CNOT(register, target);\n",
    "\n",
    "        // Encode the message into the entangled pair,\n",
    "        // and measure the qubits to extract the classical data\n",
    "        // we need to correctly decode the message into the target qubit:\n",
    "        CNOT(msg, register);\n",
    "        H(msg);\n",
    "        let data1 = M(msg);\n",
    "        let data2 = M(register);\n",
    "\n",
    "        // Decode the message by applying the corrections on\n",
    "        // the target qubit accordingly.\n",
    "        // We use MResetZ from the Microsoft.Quantum.Measurement namespace\n",
    "        // to reset our qubits as we go.\n",
    "        if (MResetZ(msg) == One) { Z(target); }\n",
    "        // We can also use library functions such as IsResultOne to write\n",
    "        // out correction steps. This is especially helpful when composing\n",
    "        // conditionals with other functions and operations, or with partial\n",
    "        // application.\n",
    "        if (IsResultOne(MResetZ(register))) { X(target); }\n",
    "    }\n",
    "}\n",
    "\n",
    "// One can use quantum teleportation circuit to send an unobserved\n",
    "// (unknown) classical message from source qubit to target qubit\n",
    "// by sending specific (known) classical information from source\n",
    "// to target.\n",
    "\n",
    "/// Uses teleportation to send a classical message from one qubit\n",
    "/// to another.\n",
    "///\n",
    "/// # Input\n",
    "/// ## message\n",
    "/// If `true`, the source qubit (`here`) is prepared in the\n",
    "/// |1〉 state, otherwise the source qubit is prepared in |0〉.\n",
    "///\n",
    "/// ## Output\n",
    "/// The result of a Z-basis measurement on the teleported qubit,\n",
    "/// represented as a Bool.\n",
    "operation TeleportClassicalMessage (message : Bool) : Bool {\n",
    "    // Ask for some qubits that we can use to teleport.\n",
    "    using ((msg, target) = (Qubit(), Qubit())) {\n",
    "\n",
    "        // Encode the message we want to send.\n",
    "        if (message) {\n",
    "               X(msg);\n",
    "        }\n",
    "\n",
    "        // Use the operation we defined above.\n",
    "        Teleport(msg, target);\n",
    "\n",
    "        // Check what message was sent.\n",
    "        return MResetZ(target) == One;\n",
    "    }\n",
    "}\n",
    "\n",
    "// One can also use quantum teleportation to send any quantum state\n",
    "// without losing any information. The following sample shows\n",
    "// how a randomly picked non-trivial state (|-> or |+>)\n",
    "// gets moved from one qubit to another.\n",
    "\n",
    "/// Uses teleportation to send a randomly picked |-> or |+> state\n",
    "/// to another.\n",
    "operation TeleportRandomMessage () : Unit {\n",
    "    // Ask for some qubits that we can use to teleport.\n",
    "    using ((msg, target) = (Qubit(), Qubit())) {\n",
    "        PrepareRandomMessage(msg);\n",
    "\n",
    "        // Use the operation we defined above.\n",
    "        Teleport(msg, target);\n",
    "\n",
    "        // Report message received:\n",
    "        if (IsPlus(target))  { Message(\"Received |+>\"); }\n",
    "        if (IsMinus(target)) { Message(\"Received |->\"); }\n",
    "\n",
    "        // Reset all of the qubits that we used before releasing\n",
    "        // them.\n",
    "        Reset(msg);\n",
    "        Reset(target);\n",
    "    }\n",
    "}\n",
    "\n",
    "// verify |+> and |-> quantum states.\n",
    "/// Sets the qubit's state to |+⟩.\n",
    "operation SetToPlus(q: Qubit) : Unit {\n",
    "    Reset(q);\n",
    "    H(q);\n",
    "}\n",
    "\n",
    "/// Sets the qubit's state to |−⟩.\n",
    "operation SetToMinus(q: Qubit) : Unit {\n",
    "    Reset(q);\n",
    "    X(q);\n",
    "    H(q);\n",
    "}\n",
    "\n",
    "/// Returns true if qubit is |+> (assumes qubit is either |+> or |->)\n",
    "operation IsPlus(q: Qubit) : Bool {\n",
    "    return (Measure([PauliX], [q]) == Zero);\n",
    "}\n",
    "\n",
    "/// Returns true if qubit is |-> (assumes qubit is either |+> or |->)\n",
    "operation IsMinus(q: Qubit) : Bool {\n",
    "    return (Measure([PauliX], [q]) == One);\n",
    "}\n",
    "\n",
    "/// Randomly prepares the qubit into |+> or |->\n",
    "operation PrepareRandomMessage(q: Qubit) : Unit {        \n",
    "    let choice = RandomInt(2);\n",
    "\n",
    "    if (choice == 0) {\n",
    "        Message(\"Sending |->\");\n",
    "        SetToMinus(q);\n",
    "    } else {\n",
    "        Message(\"Sending |+>\");\n",
    "        SetToPlus(q);\n",
    "    }\n",
    "}"
   ]
  },
  {
   "cell_type": "code",
   "execution_count": 56,
   "metadata": {},
   "outputs": [
    {
     "name": "stdout",
     "output_type": "stream",
     "text": [
      "Sending |+>\n",
      "Received |+>\n"
     ]
    },
    {
     "data": {
      "application/json": "{\"@type\":\"tuple\"}",
      "text/plain": [
       "()"
      ]
     },
     "execution_count": 56,
     "metadata": {},
     "output_type": "execute_result"
    }
   ],
   "source": [
    "%simulate TeleportRandomMessage"
   ]
  },
  {
   "cell_type": "markdown",
   "metadata": {},
   "source": [
    "# References\n",
    "## Code\n",
    "- [C1] [TeleportationSample.qs](https://github.com/microsoft/Quantum/blob/master/samples/getting-started/teleportation/TeleportationSample.qs)<a id=\"rC1\"></a> <br>\n",
    "- [C2] [Utils.qs](https://github.com/microsoft/Quantum/blob/master/samples/getting-started/teleportation/Utils.qs)<a id=\"rC2\"></a> <br>\n",
    "- [C3] [Numerics library](https://docs.microsoft.com/en-us/quantum/libraries/numerics/numerics?view=qsharp-preview\n",
    ")<a id=\"rC3\"></a> <br>\n",
    "- [C4] [Q# notebooks](https://github.com/microsoft/Quantum/blob/master/samples/getting-started/intro-to-iqsharp/Notebook.ipynb)<a id=\"rC4\"></a> <br>\n",
    "\n",
    "\n",
    "\n",
    "## Explanations\n",
    "- [E1] [Qubit](https://docs.microsoft.com/en-us/quantum/concepts/the-qubit?view=qsharp-preview)<a id=\"rQubit\"></a> <br>\n",
    "- [E2] Folie: Quantum Systems for Computations - Prof. Dr. Jörg Hettel<a id=\"rE2\"></a> <br>\n",
    "- [E3] [Q# techniques](https://docs.microsoft.com/en-us/quantum/techniques/operations-and-functions?view=qsharp-preview) <a id=\"rE3\"></a><br>\n",
    "\n",
    "- [E4] [Local Variables](https://docs.microsoft.com/en-us/quantum/techniques/local-variables?view=qsharp-preview)<a id=\"rE4\"></a><br>\n",
    "- [E5] [Operations and Functions](https://docs.microsoft.com/en-us/quantum/techniques/operations-and-functions?view=qsharp-preview)<a id=\"rE5\"></a><br>\n",
    "- [E6] [Type Model](https://docs.microsoft.com/en-us/quantum/language/type-model?view=qsharp-preview)<a id=\"rE6\"></a><br>\n",
    "- [E7] [Working with Qubits](https://docs.microsoft.com/en-us/quantum/techniques/working-with-qubits?view=qsharp-preview)<a id=\"rE7\"></a>\n",
    "- [E8] [Microsoft.Quantum.Intrinsic](https://docs.microsoft.com/en-us/qsharp/api/qsharp/microsoft.quantum.intrinsic?view=qsharp-preview)<a id=\"rE8\"></a> <br>\n",
    "\n",
    "- [E9] [Intrinsic Operations and Functions](https://docs.microsoft.com/en-us/quantum/libraries/standard/prelude?view=qsharp-preview#pauli-operators)<a id=\"rE9\"></a> <br>\n",
    "\n",
    "\n",
    "\n",
    "\n",
    "## Other Rescources\n",
    "- [O1] [#heiseshow: \"Quantum Supremacy\"](https://www.heise.de/newsticker/meldung/heiseshow-Quantum-Supremacy-Beginnt-jetzt-die-Aera-der-Quantencomputer-4565601.html)<a id=\"rXXX\"></a> <br>\n",
    "\n",
    "- [O2] [How To Make a Quantum Bit](https://www.youtube.com/watch?v=zNzzGgr2mhk)<a id=\"rQuantencomputerSpin\"></a> <br>\n",
    "\n",
    "- [O3] [Bloch sphere example](https://docs.microsoft.com/en-us/quantum/libraries/standard/prelude?view=qsharp-preview)<a id=\"rO3\"></a> <br>\n",
    "- [O4] [Intro-Image](https://azurecomcdn.azureedge.net/cvt-54e73bdd9396b7e9b392b6a72209d3b9d05f2a0d5b8bfebda8e3eed82f6d3a96/less/images/section/quantum-hero.jpg)<a id=\"rO4\"></a> <br>\n",
    "- [O5] [Quantum Teleportation](https://docs.microsoft.com/en-us/quantum/techniques/putting-it-all-together?view=qsharp-preview)<a id=\"rO5\"></a> <br>\n",
    "- [O6] [Dokumentation](https://docs.microsoft.com/en-us/quantum/?view=qsharp-preview)<a id=\"rO6\"></a> <br>\n",
    "- [O7] [Quantum Circuits](https://docs.microsoft.com/en-us/quantum/concepts/circuits?view=qsharp-preview)<a id=\"rO7\"></a> <br>\n",
    "- [O8] [Azure Quantum](https://azure.microsoft.com/en-us/services/quantum/?cdn=disable)<a id=\"rO8\"></a> <br>\n",
    "\n"
   ]
  },
  {
   "cell_type": "code",
   "execution_count": null,
   "metadata": {},
   "outputs": [],
   "source": []
  }
 ],
 "metadata": {
  "kernelspec": {
   "display_name": "Q#",
   "language": "qsharp",
   "name": "iqsharp"
  },
  "language_info": {
   "file_extension": ".qs",
   "mimetype": "text/x-qsharp",
   "name": "qsharp",
   "version": "0.4"
  }
 },
 "nbformat": 4,
 "nbformat_minor": 2
}
