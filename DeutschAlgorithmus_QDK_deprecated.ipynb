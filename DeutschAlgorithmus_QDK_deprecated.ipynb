{
 "cells": [
  {
   "cell_type": "markdown",
   "metadata": {},
   "source": [
    "![bloch_sphere](_image/intro.png)"
   ]
  },
  {
   "cell_type": "markdown",
   "metadata": {},
   "source": [
    "Dieses Notebook befasst sich mit einer Umsetzung des Deutsch Algorithmus mit Hilfe des QDK Frageworks bzw. in der Programmiersprache Q#. **Stand 16.01.2020.**"
   ]
  },
  {
   "cell_type": "code",
   "execution_count": 1,
   "metadata": {},
   "outputs": [
    {
     "data": {
      "application/json": "{\"rows\":[{\"@type\":\"@tuple\",\"Item1\":\"iqsharp\",\"Item2\":\"0.10.1912.501\"},{\"@type\":\"@tuple\",\"Item1\":\"Jupyter Core\",\"Item2\":\"1.2.20112.0\"},{\"@type\":\"@tuple\",\"Item1\":\".NET Runtime\",\"Item2\":\".NETCoreApp,Version=v3.0\"}]}",
      "text/html": [
       "<table><thead><tr><th>Component</th><th>Version</th></tr></thead><tbody><tr><td>iqsharp</td><td>0.10.1912.501</td></tr><tr><td>Jupyter Core</td><td>1.2.20112.0</td></tr><tr><td>.NET Runtime</td><td>.NETCoreApp,Version=v3.0</td></tr></tbody></table>"
      ],
      "text/plain": [
       "Component    Version\r\n",
       "------------ ------------------------\r\n",
       "iqsharp      0.10.1912.501\r\n",
       "Jupyter Core 1.2.20112.0\r\n",
       ".NET Runtime .NETCoreApp,Version=v3.0\r\n"
      ]
     },
     "metadata": {},
     "output_type": "display_data"
    }
   ],
   "source": [
    "%version"
   ]
  },
  {
   "cell_type": "markdown",
   "metadata": {},
   "source": [
    "# Voraussetzungen\n",
    "\n",
    "Jupyter Notebook ist ein beliebtes Tool in der Wissenschaft und Forschung sowie bei der onlinebasierten kollaborativen Programmierung, das sich durch direkte Codeausführung auszeichnet sowie Anweisungen, Hinweise und andere Inhalte bietet. Hier sind die Schritte aufgeführt, die Sie zum Erstellen eigener Q#-Notebooks ausführen müssen.\n",
    "\n",
    "IQ# ist eine hauptsächlich von Jupyter und Python genutzte Erweiterung für das .NET Core SDK, welche die Kernfunktionen für das Kompilieren und Simulieren von Q#-Vorgängen bereitstellt.\n",
    "\n",
    "\n",
    "- [Python 3.6](https://www.python.org/downloads/) oder höher\n",
    "- [Jupyter Notebook](https://jupyter.readthedocs.io/en/latest/install.html)\n",
    "- [.NET Core SDK 3.0](https://dotnet.microsoft.com/download) oder höher\n",
    "\n",
    "Bevor Q# Code ausgeführt werden kann, muss das Jupyter Notebook zunächst eine passende Umgebung bereitstellen. Hierzu muss nach Installation des .NET Core SDKs die Eingabeaufforderung geöffnet werden und die folgende Befehle ausgeführt werden. Nach jeder Ausführung, muss die Eingabeaufforderung geschlossen und neu gestartet werden!\n",
    "- dotnet tool install -g Microsoft.Quantum.IQSharp\n",
    "- dotnet iqsharp install\n",
    "\n",
    "# Table of Contents\n",
    "\n",
    "- [Deutsch Algorithmus](#deutsch)<br>\n",
    " - [Problemformulierung](#problemformulierung)<br>\n",
    " - [Quantenschaltkreis](#quantenschaltkreis)<br>\n",
    " - [Algorithmus](#algorithmus)<br>\n",
    "- [Deutsch-Jozsa Algorithmus](#deutsch_josza)<br>\n",
    " - [Problemformulierung](#problemformulierung_josza)<br>\n",
    " - [Quantenschaltkreis](#quantenschaltkreis_josza)<br>\n",
    " - [Algorithmus](#algorithmus_josza)<br>\n",
    "\n",
    "# Deutsch-Algorithmus<a id=\"deutsch\"></a>\n",
    "\n",
    "## Problemformulierung<a id=\"problemformulierung\"></a>\n",
    "\n",
    "Gegeben sei eine Funktion $f: \\{ 0 , 1 \\} → \\{ 0 , 1 \\}$. Gesucht ist,on die gegebene Funktion konstant ( $f(0) = f (1)$ ) oder balanciert ( $f(0) ≠ f(1)$ ) ist.\n",
    "\n",
    "Als Beispiel bzw. zur Veranschaulichung wird oft folgende Aufgabenstellung benutzt: Wie viele versuche benötigt man, um herauszufinden ob eine gegebene Münze echt (Kopf auf der einen Seite, Zahl auf der anderen) oder gezinkt (Kopf oder Zahl auf beiden Seiten der Münze) ist.\n",
    "\n",
    "\n",
    "## Quantenschaltkreis<a id=\"quantenschaltkreis\"></a>\n",
    "\n",
    "![Quantenschaltkreis Deutsch](_image/deutsch_algorithm.png)[O1](#r01)\n",
    "\n",
    "\n",
    "\n",
    "## Algorithmus<a id=\"algorithmus\"></a>\n",
    "\n",
    "Der Quantenalgorithmus wendet die Hadamard-Transformation auf die gegebene Funktion an um die Werte in eine Superposition zu bringen und  beiden möglichen Eingaben an und erhält durch geschicktes Auswerten der Superposition, mit nur einmaliger Anwendung des Orakels, ausreichend Information über **f(0)** und **f(1)**. \n",
    "\n",
    "In der Quanteninformatik müssen alle Rechenschritte umkehrbar sein, wird eine spezielle Variante von **f** benötigt, beschrieben durch die Abbildung: $U_f: |x\\rangle|y\\rangle ↦ |x\\rangle |f(x)⊕y\\rangle$\n",
    "\n",
    "\n",
    "Der Deutsch Algorithmus verwendet zwei Qubits $|x\\rangle⊗|y\\rangle$ und wird wie folgt berechnet: [E1](#rE1)\n",
    "\n",
    "1) Initialisierung:<br><br>\n",
    "$\n",
    "|x\\rangle|y\\rangle\\ =\\ |0\\rangle|1\\rangle \\\\\n",
    "=\\ |a\\rangle\n",
    "$\n",
    "<br><br><br>\n",
    "2) Auf beide Eingänge (Qubits) wird die Hadarmard-Tranformation angewandt:<br><br>\n",
    "$\n",
    "|x\\rangle|y\\rangle\\ →\\ H|x\\rangle H|y\\rangle \\\\\n",
    "        = \\frac{1}{\\sqrt{2}}(\\ |0\\rangle\\ +\\ |1\\rangle )*\\frac{1}{\\sqrt{2}}( |0\\rangle\\ -\\ |1\\rangle\\  ) \\\\\n",
    "        = \\frac{1}{\\sqrt{2}}(\\ |0\\rangle|0⟩\\ -\\ |0\\rangle|1\\rangle\\ +\\ |1\\rangle|0\\rangle\\ -\\ |1\\rangle|1\\rangle\\  ) \\\\\n",
    "        = |b⟩\n",
    "$\n",
    "<br><br><br>\n",
    "3) $U_f$ anwenden (Orakel Beispiel: y⊕f(x)\\ ):<br><br>\n",
    "$\n",
    "|x\\rangle|y\\rangle\\ →\\ U_f|x\\rangle|y\\rangle \\\\\n",
    "= \\frac{1}{\\sqrt{2}} (\\ |0\\rangle|0⊕f(0)\\rangle\\ -\\ |0\\rangle|1⊕f(0)\\rangle\\ +\\ |1\\rangle|0⊕f(1)\\rangle\\ -\\ |1\\rangle|1 f(1)\\rangle\\  ) \\\\\n",
    "= \\frac{1}{\\sqrt{2}} (\\ |0\\rangle*(|f(0\\rangle-|1⊕f(0)\\rangle)+|1\\rangle\\ *\\ (|f(1)\\rangle-|1⊕f(1)\\rangle) \\  ) \\\\\n",
    "= \\frac{1}{\\sqrt{2}} (\\ (-1)^{f(0)}|0\\rangle\\ *\\ (|0\\rangle-|1\\rangle)\\ +\\ (-1)^{f(1)}|1\\rangle\\ *\\ (|0\\rangle-|1\\rangle)\\ ) \\\\\n",
    "= \\frac{1}{\\sqrt{2}} (\\ (-1)^{f(0)}|0\\rangle\\ +\\ (-1)^{f(1)}|1\\rangle\\ *\\ (|0\\rangle-|1\\rangle)\\ ) \\\\\n",
    "= |c\\rangle\n",
    "$<br><br>\n",
    "$|c⟩$ konstant, wenn: $\\frac{1}{\\sqrt{2}}(\\ \\pm(|0\\rangle+|1\\rangle)\\ )\\ *\\ (\\ |0\\rangle-|1\\rangle\\ )$<br>\n",
    "$|c⟩$ balanciert, wenn: $\\frac{1}{\\sqrt{2}}(\\ \\pm(|0\\rangle-|1\\rangle)\\ )\\ *\\ (\\ |0\\rangle-|1\\rangle\\ )$\n",
    "<br><br><br>\n",
    "4) Die Hadarmard-Tranformation wird auf |x⟩ angewandt:<br><br>\n",
    "$\n",
    "|x\\rangle\\ →\\ H|x\\rangle\n",
    "$\n",
    "<br><br><br>\n",
    "5) Messen des |x⟩ Qubits<br>\n",
    "\n",
    "\n",
    "\n",
    "\n",
    "## Zusammenfassung\n",
    "\n",
    "- Man wendet das H-Transformation auf jedes Qubit an\n",
    "- $U_f$ an Wenden\n",
    "- Wenden das H-Transformation auf |x⟩ Qubit an\n",
    "- Messen von |x⟩\n",
    "- Wenn |x⟩ Qubit im Zustand $|0\\rangle$ gemessen wurden, ist die Funktion konstant, ansonsten ist sie balanciert"
   ]
  },
  {
   "cell_type": "code",
   "execution_count": 46,
   "metadata": {},
   "outputs": [
    {
     "name": "stdout",
     "output_type": "stream",
     "text": [
      "C:/snippet_.qs(31,24): warning QS3302: Deprecated syntax. Use \"and\" to denote the logical AND operator.\n"
     ]
    },
    {
     "data": {
      "application/json": "[\"Deutsch\",\"Uf\"]",
      "text/html": [
       "<ul><li>Deutsch</li><li>Uf</li></ul>"
      ],
      "text/plain": [
       "Deutsch, Uf"
      ]
     },
     "execution_count": 46,
     "metadata": {},
     "output_type": "execute_result"
    }
   ],
   "source": [
    "operation Deutsch(oracle : String) : Bool {\n",
    "\n",
    "    // Allocating Qubit-Register (Münze), Controll-Qubit\n",
    "    using ((x,y) = (Qubit[2], Qubit())){\n",
    "         \n",
    "         \n",
    "         \n",
    "        // Hadamard-Transformation\n",
    "        H(x[0]);\n",
    "        H(x[1]);\n",
    "        X(y);\n",
    "        H(y);\n",
    "         \n",
    "        // Orakel\n",
    "        Uf(x,y);\n",
    "\n",
    "        \n",
    "        // Hadamard-Transformation\n",
    "        H(x[0]);\n",
    "        H(x[1]);\n",
    "        \n",
    "        // Messen\n",
    "        let mx1 = M(x[0]);\n",
    "        let mx2 = M(x[1]);\n",
    "        \n",
    "        // Qubits freigeben\n",
    "        ResetAll(x);\n",
    "        Reset(y);\n",
    "        \n",
    "        // Rückgabe\n",
    "        Message($\"{mx1}\");\n",
    "        Message($\"{mx2}\");\n",
    "        if(mx1 == Zero && mx2 == Zero) {\n",
    "            return true;\n",
    "        }else {\n",
    "            return false;\n",
    "        }    \n",
    "    }\n",
    "}\n",
    "\n",
    "// Inputs:\n",
    "//      1) N Qubits in beliebigem Zustand |x⟩ (Eingangsregister)\n",
    "//      2) ein Qubit im beliebigen Zustand |y⟩ (Ausgangs-Qubit)\n",
    "// Ziel: Zustand |x, y⟩ in Zustand |x, y ⊕ f(x)⟩ transformieren\n",
    "operation Uf(x : Qubit[], y : Qubit) : Unit {       \n",
    "    // Hinweis: f(x) kann als x_0 ⊕ x_1 ⊕ ... ⊕ x_(N-1) dargestellt werden.\n",
    "     ApplyToEach(CNOT(_,y),x);\n",
    "}"
   ]
  },
  {
   "cell_type": "code",
   "execution_count": 47,
   "metadata": {},
   "outputs": [
    {
     "data": {
      "application/json": "[\"StartD\"]",
      "text/html": [
       "<ul><li>StartD</li></ul>"
      ],
      "text/plain": [
       "StartD"
      ]
     },
     "execution_count": 47,
     "metadata": {},
     "output_type": "execute_result"
    }
   ],
   "source": [
    "operation StartD():Unit{\n",
    "    Message(\"1. Beispiel\");\n",
    "    let deutschValue = Deutsch(\"b\");\n",
    "   \n",
    "    if(deutschValue == true){\n",
    "        Message($\"Ist eine konstante Funktion\");\n",
    "    } \n",
    "    if(deutschValue == false){\n",
    "         Message($\"Ist eine balancierte Funktion\");\n",
    "    }\n",
    "    \n",
    "        Message(\"2. Beispiel\");\n",
    "    let deutschValue2 = Deutsch(\"c\");\n",
    "   \n",
    "    if(deutschValue2 == true){\n",
    "        Message($\"Ist eine konstante Funktion\");\n",
    "    } \n",
    "    if(deutschValue2 == false){\n",
    "         Message($\"Ist eine balancierte Funktion\");\n",
    "    }\n",
    "}"
   ]
  },
  {
   "cell_type": "code",
   "execution_count": 48,
   "metadata": {},
   "outputs": [
    {
     "name": "stdout",
     "output_type": "stream",
     "text": [
      "1. Beispiel\n",
      "One\n",
      "One\n",
      "Ist eine balancierte Funktion\n",
      "2. Beispiel\n",
      "One\n",
      "One\n",
      "Ist eine balancierte Funktion\n"
     ]
    },
    {
     "data": {
      "application/json": "{\"@type\":\"tuple\"}",
      "text/plain": [
       "()"
      ]
     },
     "execution_count": 48,
     "metadata": {},
     "output_type": "execute_result"
    }
   ],
   "source": [
    "%simulate StartD"
   ]
  },
  {
   "cell_type": "markdown",
   "metadata": {},
   "source": [
    "# Deutsch-Jozsa-Algorithmus<a id=\"deutsch_josza\"></a>\n",
    "\n",
    "## Problemformulierung<a id=\"problemformulierung_josza\"></a>\n",
    "\n",
    "Der Deutsch-Jozsa-Algorithmus ist eine Erweiterung des Deutsch-Algorithmus und erweiterte die Funktion **f** um mehr als 2 Qubits an die Funktion zu übergeben. Also $f: \\{ 0 , 1 \\}^n → \\{ 0 , 1 \\}$. Es wird zugesichert, dass die Funktion entweder konstant (alle Eingaben werden auf ein und denselben Wert abgebildet) oder balanciert ist. Herauszufinden ist nun, welche der beiden Möglichkeiten zutrifft.\n",
    "\n",
    "\n",
    "## Quantenschaltkreis<a id=\"quantenschaltkreis_josza\"></a>\n",
    "\n",
    "![Quantenschaltkreis Deutsch-Jozsa](_image/deutsch_jozsa_algorithm.png)[O2](#r02)\n",
    "\n",
    "## Algorithmus<a id=\"algorithmus_josza\"></a>\n",
    "\n",
    "Der Deutsch-Jozsa-Algorithmus wendet die gegebene Funktion auf eine Superposition aller möglichen Eingaben an. Durch geschickte Auswertung erhält der Algorithmus, mit nur einmaliger Anwendung ausreichend Information über alle Funktionswerte. \n",
    "\n",
    "In der Quanteninformatik müssen alle Rechenschritte umkehrbar sein, wird eine spezielle Variante von **f** benötigt, beschrieben durch die Abbildung: $U_f: |x\\rangle|y\\rangle ↦ |x\\rangle |f(x)⊕y\\rangle$\n",
    "\n",
    "\n",
    "Der Deutsch-Jozsa Algorithmus verwendet ein Quanten-Register $|x\\rangle$ als Eingaberegister und ein Qubit $|y\\rangle$ als Ausgaberegister und wird wie folgt berechnet: [E1](#rE1)\n",
    "\n",
    "1) Initialisierung:<br><br>\n",
    "$\n",
    "|x\\rangle|y\\rangle\\ =\\ |0\\rangle^{⊗n}|1\\rangle \\\\\n",
    "=\\ |a\\rangle\n",
    "$\n",
    "<br><br><br>\n",
    "2) Auf beide Eingänge (Qubits) wird die Hadarmard-Tranformation angewandt:<br><br>\n",
    "$\n",
    "|x\\rangle|y\\rangle\\ =\\ H_{n+1}|x\\rangle|y\\rangle \\\\\n",
    "=\\ \\big(\\frac{1}{\\sqrt{2^n}}\\sum_{x=0}^{2^{n}-1}|x\\rangle\\big)*\\frac{1}{\\sqrt{2}}(\\ |0\\rangle-|1\\rangle\\ ) \\\\\n",
    "=\\ \\frac{1}{\\sqrt{2^{n+1}}} \\sum_{x=0}^{2^{n}-1}|x\\rangle\\ (\\ |0\\rangle-|1\\rangle\\ ) \\\\\n",
    "=\\ |b\\rangle\n",
    "$\n",
    "<br><br><br>\n",
    "3) 𝑈𝑓 anwenden (Orakel Beispiel: y⊕f(x)\\ ):<br><br>\n",
    "$\n",
    "|x\\rangle|y\\rangle\\ →\\ U_f|x\\rangle|y\\rangle \\\\\n",
    "=\\ \\frac{1}{\\sqrt{2^{n+1}}} \\sum_{x=0}^{2^{n}-1}|x\\rangle\\ (\\ |f(x\\rangle)-|1⊕f(x)\\rangle\\ ) \\\\\n",
    "=\\ \\frac{1}{\\sqrt{2^{n+1}}} \\sum_{x=0}^{2^{n}-1}(-1)^{f(x)}|x\\rangle\\ (\\ |0⟩-|1)\\rangle\\ ) \\\\\n",
    "=\\ \\big( \\frac{1}{\\sqrt{2^{n+1}}} \\sum_{x=0}^{2^{n}-1}(-1)^{f(x)}|x\\rangle\\big) \\ *\\ \\frac{1}{\\sqrt{2}}(\\ |0\\rangle-|1\\rangle\\ ) \\\\\n",
    "=\\ |c\\rangle\n",
    "$ \n",
    "<br><br><br>\n",
    "4) Die Hadarmard-Tranformation wird auf |x⟩ angewandt:<br><br>\n",
    "$\n",
    "|x\\rangle|y\\rangle\\ =\\ (\\ H_{n}|x\\rangle\\ )|y\\rangle \\\\\n",
    "=\\ \\big(\\frac{1}{2^n}  \\sum_{z=0}^{2^{n}-1}\\sum_{x=0}^{2^{n}-1}(-1)^{x*z+f(x)}|z\\rangle\\big)\\ *\\ \\frac{1}{\\sqrt{2}}(\\ |0\\rangle-|1\\rangle\\ ) \\\\\n",
    "=\\ |d\\rangle\n",
    "$\n",
    "<br><br>\n",
    "5) Messen des |x⟩ Quanten-Registers\n",
    "\n",
    "\n",
    "## Zusammenfassung\n",
    "\n",
    "- Man wendet das H-Transformation auf jedes Qubit im Quanten-Register |x⟩ an\n",
    "- $U_f$ an Wenden\n",
    "- Wenden das H-Transformation auf Quanten-Register |x⟩ an\n",
    "- Messen des Quanten-Register |x⟩\n",
    "- Wenn alle Quanten des Quanten-Register |x⟩ im Zustand $|0\\rangle$ gemessen wurden (Also $| 0 … 0 \\rangle$), ist die Funktion konstant, ansonsten ist sie balanciert"
   ]
  },
  {
   "cell_type": "code",
   "execution_count": 5,
   "metadata": {},
   "outputs": [
    {
     "data": {
      "application/json": "[\"PhaseOracle_OddNumberOfOnes_Reference\",\"PhaseOracle_One_Reference\",\"PhaseOracle_Xmod2_Reference\",\"PhaseOracle_Zero_Reference\"]",
      "text/html": [
       "<ul><li>PhaseOracle_OddNumberOfOnes_Reference</li><li>PhaseOracle_One_Reference</li><li>PhaseOracle_Xmod2_Reference</li><li>PhaseOracle_Zero_Reference</li></ul>"
      ],
      "text/plain": [
       "PhaseOracle_OddNumberOfOnes_Reference, PhaseOracle_One_Reference, PhaseOracle_Xmod2_Reference, PhaseOracle_Zero_Reference"
      ]
     },
     "execution_count": 5,
     "metadata": {},
     "output_type": "execute_result"
    }
   ],
   "source": [
    "// Öffnet den Namensraum, in dem die Bibliotheksfunktion PI() definiert ist\n",
    "open Microsoft.Quantum.Math;\n",
    "\n",
    "// Function 1. f(x) = 0\n",
    "operation PhaseOracle_Zero_Reference (x : Qubit[]) : Unit is Adj {\n",
    "    // Da f(x) = 0 für alle Werte von x, ist Uf|y⟩ = |y⟩\n",
    "    // Das bedeutet, dass die Operation keine Transformation der Eingänge durchführen muss. \n",
    "}\n",
    "\n",
    "\n",
    "// Function 2. f(x) = 1\n",
    "operation PhaseOracle_One_Reference (x : Qubit[]) : Unit is Adj {\n",
    "    // Da f(x) = 1 für alle Werte von x, ist Uf|y⟩ = -|y⟩.\n",
    "    // Dies bedeutet, dass die Operation eine globale Phase von -1 hinzufügen muss, damit gilt -|y⟩ = |y⟩\n",
    "    R(PauliI, 2.0 * PI(), x[0]);\n",
    "}\n",
    "\n",
    "\n",
    "// Function 3. f(x) = x mod 2\n",
    "operation PhaseOracle_Xmod2_Reference (x : Qubit[]) : Unit is Adj {\n",
    "    // Length(x) gibt die Länge des Arrays an.\n",
    "    // Array-Elemente werden von 0 bis einschließlich Length(x)-1 indiziert.\n",
    "    Z(x[Length(x) - 1]);\n",
    "}\n",
    "\n",
    "\n",
    "// Function 4. f(x) = 1 if x has odd number of 1s, and 0 otherwise\n",
    "operation PhaseOracle_OddNumberOfOnes_Reference (x : Qubit[]) : Unit is Adj {\n",
    "    ApplyToEachA(Z, x);\n",
    "}"
   ]
  },
  {
   "cell_type": "code",
   "execution_count": 6,
   "metadata": {},
   "outputs": [
    {
     "data": {
      "application/json": "[\"DeutschJozsaAlgorithm\"]",
      "text/html": [
       "<ul><li>DeutschJozsaAlgorithm</li></ul>"
      ],
      "text/plain": [
       "DeutschJozsaAlgorithm"
      ]
     },
     "execution_count": 6,
     "metadata": {},
     "output_type": "execute_result"
    }
   ],
   "source": [
    "operation DeutschJozsaAlgorithm (N : Int, oracle : (Qubit[] => Unit)) : Bool {\n",
    "    // Man erstellt eine boolesche Variable zur Speicherung des Rückgabewertes.\n",
    "    // Diese muss später aktualisiert werden, also muss sie als veränderbar deklariert werden.\n",
    "    mutable isConstant = true;\n",
    "\n",
    "    // Allocated ein Array von N Qubits für das Eingangsregister x.\n",
    "    using (x = Qubit[N]) {\n",
    "    \n",
    "        \n",
    "        // Neu zugeordnete Qubits starten im Zustand |0⟩.\n",
    "        // Vorbereitung der Qubits.\n",
    "        \n",
    "        \n",
    "        \n",
    "        // Die Qubits für Orakel vorbereiten.\n",
    "        // Anwenden des Hadamard-Gate auf das Eingangs-Register.\n",
    "        // Ein Qubit kann vom Zustand |0⟩ in den Zustand |+⟩ durch Anlegen eines Hadamard-Gate H transformiert werden\n",
    "        // und vom Zustand |1⟩ in den Zustand |-⟩.\n",
    "        ApplyToEach(H, x);\n",
    "\n",
    "        // Wendet das Orakel auf das Eingangsregister an\n",
    "        oracle(x);\n",
    "        \n",
    "        // Wendet wieder ein Hadamard-Gatter auf jedes Qubit des Eingangsregisters an.\n",
    "        ApplyToEach(H, x);\n",
    "\n",
    "        // Misst jedes Qubit des Eingangsregisters in der Berechnungsgrundlage mit der M-Operation.\n",
    "        // Mit einer for-Schleife kann über den Bereich der Indizes 0..N-1 iteriert werden.\n",
    "        // Hinweis: Die Antwort kann nicht in der Mitte einer Schleife zurückgegeben werden, \n",
    "        // sondern muss mit dem Schlüsselwort \"set\" in der Variablen isConstant aktualisiert werden.\n",
    "        for (q in x) {\n",
    "        Message($\"{M(q)}\");\n",
    "            if (M(q) == One) {\n",
    "                set isConstant = false;\n",
    "            }\n",
    "        }\n",
    "\n",
    "        // Bevor das Programm beendet wird, muss sicher gestellt werden, dass alle Qubits sich im Startzustand \n",
    "        // |0⟩ befinden \n",
    "        // Dazu steht die Bibliotheksoperation Reset zur Verfügung, die ein Qubit misst und ggf. eine Korrektur durchführt.\n",
    "        // Die Bibliotheksoperation ResetAll macht dasselbe für ein Register von Qubits.\n",
    "        ResetAll(x);\n",
    "    }\n",
    "    \n",
    "    // Gibt den Wert der booleschen Variable zurück.\n",
    "    return isConstant;\n",
    "}"
   ]
  },
  {
   "cell_type": "code",
   "execution_count": 7,
   "metadata": {},
   "outputs": [
    {
     "data": {
      "application/json": "[\"CheckQuantumAlgorithm\",\"ConstantOrBalanced\",\"E4_QuantumAlgorithm_Test\"]",
      "text/html": [
       "<ul><li>CheckQuantumAlgorithm</li><li>ConstantOrBalanced</li><li>E4_QuantumAlgorithm_Test</li></ul>"
      ],
      "text/plain": [
       "CheckQuantumAlgorithm, ConstantOrBalanced, E4_QuantumAlgorithm_Test"
      ]
     },
     "execution_count": 7,
     "metadata": {},
     "output_type": "execute_result"
    }
   ],
   "source": [
    "operation CheckQuantumAlgorithm (N : Int, oracle : (Qubit[] => Unit), expected : Bool, functionName : String) : Unit {\n",
    "    Message($\"Testing {functionName}...\");\n",
    "\n",
    "    let actual = DeutschJozsaAlgorithm(N, oracle);\n",
    "        \n",
    "    // check that the return value is correct\n",
    "    if (actual != expected) {\n",
    "        let actualStr = ConstantOrBalanced(actual);\n",
    "        let expectedStr = ConstantOrBalanced(expected);\n",
    "        Message($\"    identified as {actualStr} but it is {expectedStr}.\");\n",
    "    }else {\n",
    "        Message(\"    correct!\");\n",
    "    }\n",
    "  \n",
    "}\n",
    "\n",
    "function ConstantOrBalanced (value : Bool) : String {\n",
    "    return (value ? \"constant\" | \"balanced\");\n",
    "}\n",
    "    \n",
    "operation E4_QuantumAlgorithm_Test () : Unit {      \n",
    "    CheckQuantumAlgorithm(2, PhaseOracle_Zero_Reference, true, \"f(x) = 0\");\n",
    "    CheckQuantumAlgorithm(2, PhaseOracle_One_Reference, true, \"f(x) = 1\");\n",
    "    CheckQuantumAlgorithm(2, PhaseOracle_Xmod2_Reference, false, \"f(x) = x mod 2\");\n",
    "    CheckQuantumAlgorithm(2, PhaseOracle_OddNumberOfOnes_Reference, false, \"f(x) = (1 if x has odd number of 1s, and 0 otherwise)\");\n",
    "}"
   ]
  },
  {
   "cell_type": "code",
   "execution_count": 10,
   "metadata": {},
   "outputs": [
    {
     "name": "stdout",
     "output_type": "stream",
     "text": [
      "Testing f(x) = 0...\n",
      "Zero\n",
      "Zero\n",
      "    correct!\n",
      "Testing f(x) = 1...\n",
      "Zero\n",
      "Zero\n",
      "    correct!\n",
      "Testing f(x) = x mod 2...\n",
      "Zero\n",
      "One\n",
      "    correct!\n",
      "Testing f(x) = (1 if x has odd number of 1s, and 0 otherwise)...\n",
      "One\n",
      "One\n",
      "    correct!\n"
     ]
    },
    {
     "data": {
      "application/json": "{\"@type\":\"tuple\"}",
      "text/plain": [
       "()"
      ]
     },
     "execution_count": 10,
     "metadata": {},
     "output_type": "execute_result"
    }
   ],
   "source": [
    "%simulate E4_QuantumAlgorithm_Test"
   ]
  },
  {
   "cell_type": "markdown",
   "metadata": {},
   "source": [
    "# Fazit, Stand 16.01.2020<a id=\"fazit\"></a>\n",
    "\n",
    "Wie zu sehen ist es möglich einfache oder komplexere Quanten-Algoritmen mittels QDK umzusetzen. Dennoch gibt es ein Problem bei der Implementierung des Deutsch-Josza-Algoritmus bzw. generell beim nutzten des QDK Frameworks. Dies wäre, dass aktuell noch keine echte Laufzeitumgebung zur Ausführung des Quantenprogramms zur Verfügung steht und der Algorithmus lediglich \"simuliert\" werden kann."
   ]
  },
  {
   "cell_type": "markdown",
   "metadata": {},
   "source": [
    "# References\n",
    "## Code\n",
    "\n",
    "\n",
    "## Explanations\n",
    "\n",
    "- [E1] [Deutsch-Jozsa-Algorithmus](https://de.wikipedia.org/wiki/Deutsch-Jozsa-Algorithmus)<a id=\"rE1\"></a> <br>\n",
    "\n",
    "\n",
    "\n",
    "\n",
    "## Other Rescources\n",
    "- [O1] [Quantenschaltkreis - Algorithmus von Deutsch](https://de.wikipedia.org/wiki/Datei:Deutsch_algorithm_circuit.svg)<a id=\"rO2\"></a> <br>\n",
    "\n",
    "- [O2] [Quantenschaltkreis - Algorithmus von Deutsch-Jozsa](https://de.wikipedia.org/wiki/Datei:Deutsch-Jozsa_algorithm_circuit.svg)<a id=\"rO2\"></a> <br>"
   ]
  }
 ],
 "metadata": {
  "kernelspec": {
   "display_name": "Q#",
   "language": "qsharp",
   "name": "iqsharp"
  },
  "language_info": {
   "file_extension": ".qs",
   "mimetype": "text/x-qsharp",
   "name": "qsharp",
   "version": "0.4"
  }
 },
 "nbformat": 4,
 "nbformat_minor": 2
}
